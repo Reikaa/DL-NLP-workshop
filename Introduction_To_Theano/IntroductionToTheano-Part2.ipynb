{
 "cells": [
  {
   "cell_type": "markdown",
   "metadata": {
    "collapsed": false,
    "slideshow": {
     "slide_type": "slide"
    }
   },
   "source": [
    "<h1 align=\"center\">Introduction to Theano</h1>\n",
    "\n",
    "<h2 align=\"center\">Jorge A. Vanegas</h2>\n",
    "\n",
    "<div align=\"center\"><img src=\"images/mindlab-logo-simple.png\" style=\"width: 160px; display: inline; padding:25px;\"> <img src=\"images/unal-logo.png\" style=\"width: 150px; display: inline; padding: 0 0 20px 0;\"></div>"
   ]
  },
  {
   "cell_type": "markdown",
   "metadata": {
    "slideshow": {
     "slide_type": "slide"
    }
   },
   "source": [
    "# Outline\n",
    "\n",
    "* What’s Theano?\n",
    "* Using Theano\n",
    "* Basic Usage\n",
    "* ** Advanced Usage ** \n",
    "* ** Case study 1: Logistic Regression ** \n",
    "* ** Case study 2: Multi-layer Perceptron ** "
   ]
  },
  {
   "cell_type": "markdown",
   "metadata": {
    "slideshow": {
     "slide_type": "slide"
    }
   },
   "source": [
    "# Using the CPU vs GPU\n",
    "Theano can transparently compile onto different hardware. What device it uses by default depends on your **.theanorc** file and any environment variables defined, as described in detail here: http://deeplearning.net/software/theano/library/config.html \n",
    "\n",
    "For convenience, Theano provides the floatX configuration variable which designates what float accuracy to use. For example, you can run a Python script with certain environment variables set to use the CPU:\n",
    "\n",
    "\n",
    "    THEANO_FLAGS=device=cpu,floatX=float64 python your_script.py\n",
    "\n",
    "or GPU:\n",
    "\n",
    "    THEANO_FLAGS=device=gpu,floatX=float32 python your_script.py\n",
    "    \n",
    "**.theanorc**:\n",
    "\n",
    "    [global]\n",
    "    floatX = float32\n",
    "    device = gpu0\n",
    "    mode=FAST_RUN\n",
    "    exception_verbosity=high"
   ]
  },
  {
   "cell_type": "markdown",
   "metadata": {
    "slideshow": {
     "slide_type": "subslide"
    }
   },
   "source": [
    "You can get the values being used to configure Theano like so:"
   ]
  },
  {
   "cell_type": "code",
   "execution_count": 5,
   "metadata": {
    "collapsed": false,
    "slideshow": {
     "slide_type": "-"
    }
   },
   "outputs": [
    {
     "name": "stdout",
     "output_type": "stream",
     "text": [
      "gpu0\n",
      "float32\n"
     ]
    }
   ],
   "source": [
    "import theano\n",
    "print(theano.config.device)\n",
    "print(theano.config.floatX)"
   ]
  },
  {
   "cell_type": "markdown",
   "metadata": {
    "slideshow": {
     "slide_type": "fragment"
    }
   },
   "source": [
    "You can also get/set them at runtime:"
   ]
  },
  {
   "cell_type": "code",
   "execution_count": 6,
   "metadata": {
    "collapsed": false,
    "slideshow": {
     "slide_type": "-"
    }
   },
   "outputs": [],
   "source": [
    "old_floatX = theano.config.floatX\n",
    "theano.config.floatX = 'float32'"
   ]
  },
  {
   "cell_type": "markdown",
   "metadata": {
    "slideshow": {
     "slide_type": "fragment"
    }
   },
   "source": [
    "Be careful that you're actually using floatX!"
   ]
  },
  {
   "cell_type": "code",
   "execution_count": 9,
   "metadata": {
    "collapsed": false,
    "slideshow": {
     "slide_type": "fragment"
    }
   },
   "outputs": [
    {
     "name": "stdout",
     "output_type": "stream",
     "text": [
      "<TensorType(float64, vector)>\n"
     ]
    }
   ],
   "source": [
    "import numpy as np\n",
    "# For example, the following will cause var to be a float64 regardless of floatX due to numpy defaults:\n",
    "var = theano.shared(np.array([1.3, 2.4]))\n",
    "print(var.type()) #!!! "
   ]
  },
  {
   "cell_type": "code",
   "execution_count": 10,
   "metadata": {
    "collapsed": false,
    "slideshow": {
     "slide_type": "fragment"
    }
   },
   "outputs": [
    {
     "name": "stdout",
     "output_type": "stream",
     "text": [
      "<CudaNdarrayType(float32, vector)>\n"
     ]
    }
   ],
   "source": [
    "# So, whenever you use a numpy array, make sure to set its dtype to theano.config.floatX\n",
    "var = theano.shared(np.array([1.3, 2.4], dtype=theano.config.floatX))\n",
    "print(var.type())\n",
    "# Revert to old value\n",
    "theano.config.floatX = old_floatX"
   ]
  },
  {
   "cell_type": "markdown",
   "metadata": {
    "slideshow": {
     "slide_type": "subslide"
    }
   },
   "source": [
    "# Testing Theano with GPU\n",
    "\n",
    "    check_theano.py:\n"
   ]
  },
  {
   "cell_type": "code",
   "execution_count": 11,
   "metadata": {
    "collapsed": false
   },
   "outputs": [
    {
     "name": "stdout",
     "output_type": "stream",
     "text": [
      "[GpuElemwise{exp,no_inplace}(<CudaNdarrayType(float32, vector)>), HostFromGpu(GpuElemwise{exp,no_inplace}.0)]\n",
      "Looping 1000 times took 0.353754 seconds\n",
      "Result is [ 1.23178029  1.61879349  1.52278066 ...,  2.20771813  2.29967761\n",
      "  1.62323296]\n",
      "Used the gpu\n"
     ]
    }
   ],
   "source": [
    "from theano import function, config, shared, sandbox\n",
    "import theano.tensor as T\n",
    "import numpy\n",
    "import time\n",
    "\n",
    "vlen = 10 * 30 * 768  # 10 x #cores x # threads per core\n",
    "iters = 1000\n",
    "\n",
    "rng = numpy.random.RandomState(22)\n",
    "x = shared(numpy.asarray(rng.rand(vlen), config.floatX))\n",
    "f = function([], T.exp(x))\n",
    "print(f.maker.fgraph.toposort())\n",
    "t0 = time.time()\n",
    "for i in xrange(iters):\n",
    "    r = f()\n",
    "t1 = time.time()\n",
    "print(\"Looping %d times took %f seconds\" % (iters, t1 - t0))\n",
    "print(\"Result is %s\" % (r,))\n",
    "if numpy.any([isinstance(x.op, T.Elemwise) for x in f.maker.fgraph.toposort()]):\n",
    "    print('Used the cpu')\n",
    "else:\n",
    "    print('Used the gpu')"
   ]
  },
  {
   "cell_type": "markdown",
   "metadata": {
    "slideshow": {
     "slide_type": "subslide"
    }
   },
   "source": [
    "device=cpu\n",
    "<pre><code>\n",
    "$ THEANO_FLAGS=mode=FAST_RUN,device=cpu,floatX=float32 python check_theano.py      \n",
    "[Elemwise{exp,no_inplace}(<TensorType(float32, vector)>)]                                                              \n",
    "Looping 1000 times took 2.204147 seconds                                                                                \n",
    "Result is [ 1.23178029  1.61879337  1.52278066 ...,  2.20771813  2.29967761                                           \n",
    " 1.62323284]                                                                                                            \n",
    "Used the cpu\n",
    "</code></pre>\n",
    "\n",
    "device=gpu\n",
    "<pre><code>\n",
    "$ THEANO_FLAGS=mode=FAST_RUN,device=gpu,floatX=float32 python check_theano.py      \n",
    "Using gpu device 0: Graphics Device (CNMeM is disabled)                                                               [GpuElemwise{exp,no_inplace}(<CudaNdarrayType(float32, vector)>), HostFromGpu(GpuElemwise{exp,no_inplace}.0)]\n",
    "Looping 1000 times took 0.311079 seconds                                                                               \n",
    "Result is [ 1.23178029  1.61879349  1.52278066 ...,  2.20771813  2.29967761                                           \n",
    "  1.62323296]                                                                                                         \n",
    "Used the gpu\n",
    "</code></pre>"
   ]
  },
  {
   "cell_type": "markdown",
   "metadata": {
    "slideshow": {
     "slide_type": "slide"
    }
   },
   "source": [
    "# Case study 1: Logistic Regression\n"
   ]
  },
  {
   "cell_type": "markdown",
   "metadata": {
    "slideshow": {
     "slide_type": "fragment"
    }
   },
   "source": [
    "<table style=\"border:none;\">\n",
    "<tr style=\"border:none;\">\n",
    "<td style=\"border:none;\"> \n",
    "    \n",
    "<ul style=\"width: 400px;\">\n",
    "<li>Binary classification</li>\n",
    "<br>\n",
    "<li>Discriminative function</li>\n",
    "<br>\n",
    "$$ 𝑝(𝑦 = 1|𝑥) =\\frac{1}{1+exp(−𝑤∙𝑥−𝑏)}$$\n",
    "<br>\n",
    "<li>Objective function</li>\n",
    "<br>\n",
    "Cross-entropy\n",
    "<br>\n",
    "$$ 𝐽 = −𝑦∙log(𝑝) − (1 − 𝑦)∙log(1 − 𝑝) $$\n",
    "<br>\n",
    "</ul>\n",
    "\n",
    "</td>\n",
    "<td style=\"border:none; width: 250px;\">\n",
    "    \n",
    "<img src=\"images/classification-problem.png\" style=\"width: 150px;\"> \n",
    "<img src=\"images/sigmoid.png\" style=\"width: 150px;\"> \n",
    "<img src=\"images/sigmoid-function.png\" style=\"width: 150px;\">\n",
    "\n",
    "</td> \n",
    "</tr>\n",
    "</table>"
   ]
  },
  {
   "cell_type": "markdown",
   "metadata": {
    "slideshow": {
     "slide_type": "subslide"
    }
   },
   "source": [
    "# Case study 1: Logistic Regression"
   ]
  },
  {
   "cell_type": "code",
   "execution_count": 12,
   "metadata": {
    "collapsed": false,
    "slideshow": {
     "slide_type": "fragment"
    }
   },
   "outputs": [],
   "source": [
    "import numpy\n",
    "import theano\n",
    "import theano.tensor as T\n",
    "from collections import OrderedDict \n",
    "\n",
    "rng = numpy.random\n",
    "\n",
    "N = 400 # number of samples\n",
    "feats = 784 # dimensionality of features\n",
    "D = (rng.randn(N, feats), rng.randint(size=N, low=0, high=2))\n",
    "training_steps = 1000"
   ]
  },
  {
   "cell_type": "code",
   "execution_count": 13,
   "metadata": {
    "collapsed": false,
    "slideshow": {
     "slide_type": "fragment"
    }
   },
   "outputs": [],
   "source": [
    "# declare Theano symbolic variables\n",
    "x = T.matrix('x')\n",
    "y = T.vector('y')\n",
    "w = theano.shared(rng.randn(784), name='w')\n",
    "b = theano.shared(0., name='b')"
   ]
  },
  {
   "cell_type": "code",
   "execution_count": 14,
   "metadata": {
    "collapsed": false,
    "slideshow": {
     "slide_type": "skip"
    }
   },
   "outputs": [
    {
     "name": "stdout",
     "output_type": "stream",
     "text": [
      "Initial model:\n",
      "[  3.49381874e-01  -1.27996898e+00   1.47706989e+00  -3.94630201e-01\n",
      "  -2.16963515e-01   6.78111599e-01   1.23892824e-01   8.52841377e-01\n",
      "  -9.75886344e-01   1.14679302e-01  -4.52258477e-02   3.14934698e-01\n",
      "  -7.64881975e-01  -1.95407736e+00  -1.50187597e+00  -3.71739507e-03\n",
      "   6.25039692e-01  -1.26683082e+00   3.79840480e-01   2.76428437e-01\n",
      "   1.04578117e+00  -1.63900778e-01   7.89421847e-01  -8.15542952e-01\n",
      "   3.38379286e-01  -6.51615612e-01   9.11749056e-01  -8.32040895e-01\n",
      "  -6.10225884e-01   1.48053022e+00  -9.16580794e-01   1.44627006e-01\n",
      "  -3.69083251e-01  -1.54296486e+00  -1.23263064e+00   3.29807762e-01\n",
      "   4.60311480e-01  -3.17976869e-01   2.39722646e-01   1.86701653e+00\n",
      "  -6.51903270e-01  -5.15225702e-01  -9.88948003e-01  -1.08164077e+00\n",
      "  -1.30514431e+00  -3.92671795e-02   2.49240781e-01  -6.14584246e-01\n",
      "  -7.95280838e-01  -3.14429850e-01   7.06773202e-01  -1.40598914e+00\n",
      "   4.66167037e-01   3.88752509e-01  -5.16237686e-01  -3.76721146e-01\n",
      "  -3.74207767e-01   5.37104523e-01   1.40733672e+00  -1.16795922e+00\n",
      "   1.85306317e+00  -1.02758800e+00  -3.55745464e-01  -5.25863460e-01\n",
      "   1.37001701e+00  -9.58050119e-01  -6.61382656e-01   6.35260577e-02\n",
      "  -3.75089448e-01  -1.29100061e+00  -9.41445005e-02   1.62744456e-01\n",
      "  -4.40608789e-01  -1.62680057e+00   1.32172177e+00  -9.33447340e-01\n",
      "  -5.93878737e-01   2.15061166e+00   3.65921501e-01   2.64133509e+00\n",
      "   5.05901399e-01  -5.52294602e-01   7.62703490e-01  -1.75704851e-01\n",
      "  -2.92795624e-01  -2.47487349e+00   1.28219631e+00   4.28027658e-01\n",
      "   2.76246017e-01   4.06800003e-01   8.38250965e-01   5.75160907e-01\n",
      "  -3.15571618e-02   4.06373048e-01   1.84813010e-01  -1.24080536e+00\n",
      "  -2.77309446e-01   1.60558326e+00  -1.29469331e+00  -9.60332646e-01\n",
      "   5.35138365e-02   1.50981028e+00   1.53499511e+00   1.00254837e+00\n",
      "   8.82466379e-01  -9.19394889e-01   2.30105225e+00  -1.27365427e+00\n",
      "   1.60381346e+00   4.09855320e-02   1.34194798e-01  -8.46529326e-02\n",
      "  -4.63227123e-01  -1.34908940e+00  -1.66560075e-01  -1.70006033e+00\n",
      "  -3.10261555e-01  -1.73783960e-01  -9.17455313e-01  -1.04092306e+00\n",
      "  -7.10385011e-02   1.04122722e+00  -7.33212093e-01   4.17745691e-01\n",
      "  -6.61343441e-01  -8.78931189e-01  -3.30382300e+00  -5.14718470e-01\n",
      "   1.04098140e-01   2.51485606e-01   5.49475746e-01   4.09789699e-01\n",
      "   3.98508835e-01   7.81457716e-01  -7.85165144e-01   3.40079911e-01\n",
      "   4.32166702e-03  -3.52935801e-01   7.53418581e-01   1.14056439e+00\n",
      "  -1.31935487e+00   1.33989144e+00   2.10248379e-01   5.72571454e-01\n",
      "  -1.23665700e+00  -7.48425531e-03  -2.79789486e-01  -1.87862600e+00\n",
      "   4.66534370e-01   5.48255168e-01   8.28044513e-01   7.97284153e-01\n",
      "   4.83314587e-02   8.26714485e-02  -9.72248189e-02  -2.43655596e-01\n",
      "   4.59655487e-01   9.16283562e-01   2.08805918e+00  -1.42290139e+00\n",
      "   1.64101733e-01  -5.68816679e-01  -4.11463302e-01  -6.91066549e-01\n",
      "   8.84130902e-01   3.31250110e-01  -8.01645638e-01   6.87368537e-01\n",
      "  -1.89120162e-01  -3.07200768e-01  -1.83447958e+00   1.03625504e+00\n",
      "   1.95467115e-01  -1.08848727e+00   6.88481249e-01  -2.27839646e-01\n",
      "   2.68480449e-01   1.11114145e-01   1.05937696e-01   6.53627358e-01\n",
      "  -1.68417110e-01   5.65723872e-01  -2.19132508e-01   8.92832659e-01\n",
      "   1.61752137e-01   7.23908631e-01   5.85314826e-01  -8.70383957e-01\n",
      "  -6.23505659e-01   1.89560395e+00  -1.26416452e+00   1.44977247e+00\n",
      "  -3.91793691e-02   8.89898805e-01   1.40129906e-01  -1.37516663e+00\n",
      "   1.20655099e+00   1.13901906e+00   3.53238235e-01  -1.17466114e+00\n",
      "   7.04336120e-01  -4.17732080e-01  -1.88207590e+00   1.17951525e+00\n",
      "  -2.10897461e-01  -7.11067942e-01  -4.64724792e-01   4.51244237e-01\n",
      "   1.75980591e-01   7.17492485e-01  -1.98737982e-01   9.30178702e-01\n",
      "  -2.08277420e-01  -5.29902532e-01  -5.26287828e-01  -1.72709776e+00\n",
      "  -1.15839762e-01   1.51404039e-01  -1.07035677e-01  -1.79022764e+00\n",
      "  -2.50423146e+00   3.80841872e-01  -2.26347060e+00   3.32943190e-01\n",
      "  -5.14578626e-02  -1.63648452e+00  -1.05837051e-01   1.14888127e+00\n",
      "  -1.98929547e+00  -2.08842821e-01  -1.22444671e+00   1.01174578e+00\n",
      "   1.13643271e+00   3.58651368e-01  -1.23972119e+00   1.33609072e+00\n",
      "  -1.41558649e+00   8.08064263e-01   1.09334586e+00  -7.97945433e-01\n",
      "  -4.18720337e-01   1.92208423e+00   9.94027178e-02   2.69247754e-01\n",
      "   1.02270571e+00   5.97230891e-01  -4.75732433e-01   7.77708780e-01\n",
      "  -6.44536331e-01   7.55707785e-01  -1.06561855e+00  -2.88415644e+00\n",
      "   1.59749034e+00   7.19099024e-01   6.48289957e-01  -2.15373894e+00\n",
      "  -6.20726256e-01   1.62747636e+00  -2.36131863e-01   2.89534386e-01\n",
      "   2.43910522e-01   2.17915218e+00  -1.30349117e+00  -1.42777892e-01\n",
      "  -1.55402824e+00  -8.27196316e-01   6.69483003e-01   1.10723810e+00\n",
      "  -8.77245276e-01   8.38216178e-01   1.06279030e+00  -7.60288880e-01\n",
      "  -2.74529376e-01   1.10077044e+00   3.70306033e-01  -4.04066748e-01\n",
      "   1.81906295e+00   2.66075416e-01  -6.81802399e-01   7.63754020e-01\n",
      "   2.43548240e+00  -6.67282567e-01  -1.42671479e+00  -1.24190329e+00\n",
      "   2.95561752e+00   2.38671433e+00  -3.74543456e-01  -6.92130569e-01\n",
      "   2.37291792e+00   2.51468004e-01  -4.13019339e-01   4.98081786e-01\n",
      "  -1.74853647e+00  -9.89489875e-01  -4.47056942e-01   2.67323258e-01\n",
      "   3.21150771e-01  -1.20971457e+00  -1.94735289e+00  -7.81796616e-01\n",
      "  -2.48677699e-01  -7.04952000e-02  -1.16023549e+00   1.23311432e+00\n",
      "   4.71182712e-01   1.49170984e+00  -5.27394749e-01  -5.17388112e-01\n",
      "  -4.60766209e-01   1.05962308e+00  -2.01367720e-01  -8.78900429e-01\n",
      "   6.03069079e-01   5.06003714e-01   1.79416324e-01  -1.83692783e-01\n",
      "  -1.22244461e+00   1.54651338e+00   1.39929007e-01   3.06679310e-01\n",
      "  -1.77475245e-01   8.58809005e-01  -7.69136339e-01   4.66701858e-01\n",
      "   9.48919530e-02   9.01934932e-02  -1.47323837e-01  -1.02358819e+00\n",
      "   3.96675041e-02   4.86871747e-01  -1.82602561e+00  -4.75909241e-01\n",
      "  -4.64453333e-01  -3.95867098e-02  -1.53545187e+00  -1.51675503e+00\n",
      "   1.77943863e+00  -4.53323399e-01  -1.50533611e+00  -1.26212874e+00\n",
      "  -5.62250656e-01   2.15132767e+00  -1.11150459e+00   3.51101345e-01\n",
      "   4.36680130e-03  -1.08902147e+00  -6.95736443e-01   2.55068497e-01\n",
      "   1.01430326e+00  -6.35849283e-02   1.29595188e+00  -4.02030265e-01\n",
      "   1.11572822e+00   7.68233542e-01   1.32506084e-01   1.75259331e-01\n",
      "  -1.89545947e+00   6.81901789e-01   1.74486771e+00  -1.17318607e+00\n",
      "   3.91668284e-02  -8.67229122e-01   4.84804525e-01  -7.21681499e-01\n",
      "  -3.13985078e-01   2.18700575e+00   1.93661374e-01   1.04091809e+00\n",
      "  -5.35067358e-01  -9.34571015e-01   1.29273485e-01   7.49089319e-01\n",
      "  -1.48475516e+00  -4.96118144e-01   3.01418803e-01  -4.05511944e-01\n",
      "  -8.21977578e-02  -5.66997303e-01  -9.82147058e-01   2.22025773e+00\n",
      "   1.46947776e-01  -7.93895611e-01   1.37820801e-01   2.87862194e-01\n",
      "  -9.13979018e-01   6.08645736e-02   6.13719249e-01   5.76893134e-01\n",
      "  -1.70345178e-04   1.12738890e+00  -1.96908074e-01  -8.17691719e-01\n",
      "  -3.04855733e-02   2.03460988e+00   9.07786713e-01   8.48667789e-01\n",
      "  -9.32894858e-01   1.99765670e-01   9.25522469e-01  -2.93716834e-01\n",
      "  -8.44690704e-01  -2.13931994e+00  -1.11520213e+00  -1.64403833e-01\n",
      "  -3.00399654e+00   7.32923417e-01  -1.30914398e+00  -7.81560200e-01\n",
      "   1.03091474e-01  -1.09358282e-02   3.25563972e-01   2.00594554e+00\n",
      "   3.75228595e-03   1.47121580e+00   1.56215369e+00  -1.15957361e+00\n",
      "   1.73731945e+00  -1.64476835e+00  -3.94332184e-01  -5.38303713e-01\n",
      "   9.01772308e-02  -8.65997278e-01   1.10173397e+00  -8.74795018e-02\n",
      "  -1.60370966e+00   2.62799824e-02  -1.19069862e+00   3.42805148e-01\n",
      "   9.38465160e-02  -9.83814475e-01  -1.65126411e+00   3.95106695e-01\n",
      "  -1.13152385e+00   2.69796560e-01   3.11095582e-01   2.87408120e-01\n",
      "  -1.74388196e+00  -1.48712159e-01   8.79467820e-01  -2.52545199e+00\n",
      "  -1.49486872e+00   8.03233264e-01  -1.95996657e+00  -2.31620586e+00\n",
      "  -1.37576918e+00   2.46523599e-01  -2.63284989e+00   3.26033284e-01\n",
      "   1.99996716e-01   1.34979678e+00   2.12832102e-01   5.85189231e-01\n",
      "  -1.77656414e-01  -2.73362895e-01  -5.89483602e-01   1.74235913e-01\n",
      "  -1.07538577e+00   4.81150880e-01  -7.00155888e-01   1.47752486e-01\n",
      "  -3.23976134e-01  -1.75969652e-01  -8.15846249e-01  -5.28560450e-01\n",
      "  -7.71184438e-01   4.03556416e-01   4.44183492e-01   9.37917724e-01\n",
      "   3.29815971e-01   2.72299853e-01   7.45939966e-01   5.97495933e-01\n",
      "   5.73606867e-01   1.42804524e-01  -1.02596314e+00  -1.83266122e+00\n",
      "  -3.46946332e-01   2.63699670e-01  -2.25647519e+00   2.29888540e+00\n",
      "  -3.56591136e-01  -1.01941106e+00  -1.46040271e+00  -7.52731263e-01\n",
      "  -9.07190961e-02   2.79388310e-01  -1.29013024e-01   1.08719049e+00\n",
      "  -8.42126049e-01  -1.61321838e-01  -1.15982831e-01  -2.27565108e-02\n",
      "  -7.09844848e-01   5.41598835e-01   1.54406826e+00  -2.18442860e-01\n",
      "  -9.00506652e-01   2.76142378e-02  -6.72991043e-01  -5.79989022e-01\n",
      "  -1.21908154e-01  -7.43383579e-01  -3.26994701e-01   3.19199291e-02\n",
      "  -5.06042758e-01  -5.25751815e-01  -4.49632051e-01   6.28677646e-01\n",
      "  -5.17600257e-01   1.07649655e+00   1.09521781e+00  -4.12294451e-01\n",
      "  -1.29418799e+00  -1.29523228e+00   1.23959800e+00   7.11727981e-01\n",
      "   4.98906466e-01   1.09572472e+00   1.53895448e+00   6.35463151e-01\n",
      "   5.20154273e-01   5.24667497e-02  -5.64541753e-01  -1.87873526e-01\n",
      "   5.93308454e-01  -1.06081803e+00  -9.72749000e-01  -1.38076116e-01\n",
      "   3.58768521e-01   7.06131913e-01  -5.32934819e-01   4.73264692e-01\n",
      "  -1.40224713e+00  -1.44488174e+00  -1.55384706e+00   5.12675420e-02\n",
      "   1.48200068e+00   6.48059786e-01  -8.98867678e-01  -6.90726467e-01\n",
      "   6.71560627e-01  -1.09541737e+00   1.25921330e+00  -5.43782436e-01\n",
      "  -1.32031799e+00  -7.68396325e-01   8.54832927e-01   9.74779137e-01\n",
      "  -1.42927564e+00   6.08181167e-01   1.96068243e+00  -2.23798077e-01\n",
      "  -2.71464127e-01  -6.44698764e-01  -6.76938284e-01   2.06580675e-01\n",
      "   2.17421168e-02  -7.46559364e-01   8.15708331e-02  -8.27916513e-01\n",
      "   6.33730825e-01  -3.60975532e-01   1.31084857e+00  -4.67237013e-01\n",
      "  -1.87767873e-01   1.10557651e+00   1.72181715e-01   1.66178799e+00\n",
      "   1.60393361e-01   5.83884261e-01   2.91176667e+00   3.09548069e-01\n",
      "   5.12301231e-01   2.65792275e-01   4.76768321e-01  -4.42411362e-02\n",
      "  -6.20557819e-01  -1.88025882e+00  -2.32137257e-01   9.69621494e-01\n",
      "   2.97244197e-01   1.04002004e+00   6.26757212e-01   1.15874844e-01\n",
      "   1.31767527e+00  -1.05385670e+00   3.62180379e-01   1.21323261e+00\n",
      "  -1.46589512e+00   2.57226867e-01  -4.08455951e-01   1.73995540e+00\n",
      "   1.89594013e+00  -1.04948205e+00  -4.71689941e-01   1.12825967e-01\n",
      "   7.26138367e-01  -1.49707873e+00  -3.99830523e-01  -6.52987823e-01\n",
      "   1.11187661e+00  -1.42100441e+00  -1.11714273e+00   7.77077475e-01\n",
      "  -1.00782626e+00  -1.76294381e+00   2.18240821e+00   7.37209120e-01\n",
      "   2.79796745e+00   1.28453303e+00  -5.92873950e-01  -3.21191076e-01\n",
      "  -1.43559962e+00   1.89294142e+00   1.05317799e+00  -6.16257779e-01\n",
      "  -7.15551736e-01  -9.26189923e-01  -7.46898551e-01   6.15491797e-01\n",
      "   1.78398279e+00   9.77101134e-01  -2.25369176e-01  -3.61677044e-02\n",
      "  -1.62968329e-01   3.37501890e-01   4.68786793e-01  -1.99346630e+00\n",
      "   2.88949988e-01   2.01644605e+00  -1.50789231e+00   6.07383774e-02\n",
      "  -8.53684728e-01   8.92600344e-01  -1.54343668e+00  -5.13705259e-01\n",
      "  -1.75488520e-01   1.00678682e+00   8.46955616e-01   3.79370163e-01\n",
      "   4.66857299e-01  -8.31108914e-01   3.02446497e-01   3.15908849e-01\n",
      "  -1.12069706e+00   4.64310029e-01   1.04086332e-01  -2.01217788e+00\n",
      "   7.18190913e-01  -5.14999227e-01   7.50891293e-01   3.24746183e-01\n",
      "  -2.62517627e-01   6.28264187e-01  -9.44835171e-01   1.71072028e+00\n",
      "  -1.29221158e+00  -1.21592108e+00  -1.14840680e-01  -4.83371517e-01\n",
      "  -1.67758873e+00  -2.27082385e+00   7.06882567e-02   8.80480740e-01\n",
      "   5.33633289e-01   9.60168409e-01   5.90527415e-01  -4.79946672e-01\n",
      "   1.04076360e+00   1.75102070e+00  -1.43036355e+00  -1.61565646e+00\n",
      "  -2.21863362e+00  -1.32572540e+00   1.99376575e+00  -9.72047578e-01\n",
      "  -8.46333566e-01  -2.10109379e-01  -1.10029500e+00   6.21625347e-01\n",
      "  -1.21245634e+00   8.70328367e-01   1.91395763e-01   1.17562268e+00\n",
      "  -7.58931195e-03  -3.35201599e-01   7.31599193e-02  -8.32864373e-01\n",
      "  -1.00552710e-01  -7.96838182e-01   1.75010646e+00   1.71877643e+00\n",
      "   1.20218921e+00   5.84636233e-01  -3.10311865e-01   2.24303943e-01\n",
      "  -7.09050000e-01   8.05345646e-01   6.22148573e-01   1.31472025e-01\n",
      "   6.60787171e-01  -3.93746984e-01  -1.79242723e-01  -3.86924928e-01\n",
      "   1.94628723e-01   2.30713272e-02   2.78302421e-01   9.95096204e-01\n",
      "  -6.22924876e-01   6.19832819e-01  -1.00886374e-02   1.77627850e-01\n",
      "   6.71929965e-01   7.64800344e-01  -1.07404477e+00  -7.94864896e-01\n",
      "   1.80402051e+00  -2.62042410e-01   1.17901072e+00   8.76551665e-01\n",
      "   5.48732533e-01  -1.08797609e-01   2.29718484e-01  -6.49391668e-01\n",
      "   9.20253773e-01   4.69738159e-01   7.98977929e-01   1.61380557e+00\n",
      "  -1.97036606e+00   8.09751655e-01   6.28916257e-01  -1.46798176e+00\n",
      "  -1.75170258e+00   4.36536842e-02   1.92932524e+00  -8.64918085e-01\n",
      "  -9.81118950e-02   7.28344211e-01   2.03970795e-01   9.85879941e-01\n",
      "  -5.44159184e-01  -2.44874666e-01   3.59005622e-01  -9.20007009e-02\n",
      "  -1.33890895e-01   8.85429709e-01   2.78921523e-01  -4.76509228e-01\n",
      "   3.84612511e-01  -9.27177986e-01   6.21867158e-01  -6.45512043e-01\n",
      "  -3.94599792e-01  -6.50775967e-01  -1.52838464e-01  -7.52031294e-01\n",
      "   1.81793175e-01   8.93542268e-01  -3.14264710e-02   2.54351029e+00\n",
      "  -1.64647085e+00   3.39673238e-01   5.70483949e-01   3.86575109e-01\n",
      "   1.80881609e+00  -1.10961038e+00  -1.16239914e+00   1.41066506e+00\n",
      "   2.34469904e-01   1.75401120e+00   3.05238643e-01   6.34860606e-02\n",
      "   2.26073702e-01  -1.15108028e+00  -1.11372328e+00   9.70165747e-01\n",
      "   9.66953859e-01   7.25272517e-01   9.87704075e-01   1.14657118e+00\n",
      "  -1.03928086e+00  -4.41575834e-01   6.51626093e-01   4.64964587e-01] 0.0\n"
     ]
    }
   ],
   "source": [
    "print \"Initial model:\"\n",
    "print w.get_value(), b.get_value()"
   ]
  },
  {
   "cell_type": "code",
   "execution_count": 15,
   "metadata": {
    "collapsed": false,
    "slideshow": {
     "slide_type": "subslide"
    }
   },
   "outputs": [],
   "source": [
    "# Construct Theano expression graph"
   ]
  },
  {
   "cell_type": "markdown",
   "metadata": {
    "slideshow": {
     "slide_type": "fragment"
    }
   },
   "source": [
    "$$ 𝑝(𝑦 = 1|𝑥) =\\frac{1}{1+exp(−𝑤∙𝑥−𝑏)} $$"
   ]
  },
  {
   "cell_type": "code",
   "execution_count": 16,
   "metadata": {
    "collapsed": true,
    "slideshow": {
     "slide_type": "fragment"
    }
   },
   "outputs": [],
   "source": [
    "p_1 = 1 / (1 + T.exp(-T.dot(x, w) - b)) # probability that target = 1\n",
    "prediction = p_1 > 0.5 # the prediction threshold"
   ]
  },
  {
   "cell_type": "markdown",
   "metadata": {
    "slideshow": {
     "slide_type": "fragment"
    }
   },
   "source": [
    "$$ cost = avg(J(p_1)) + \\lambda∙\\left \\| W \\right \\|_2^2$$"
   ]
  },
  {
   "cell_type": "code",
   "execution_count": 17,
   "metadata": {
    "collapsed": true,
    "slideshow": {
     "slide_type": "fragment"
    }
   },
   "outputs": [],
   "source": [
    "xent = -y*T.log(p_1) - (1 - y)*T.log(1 - p_1) # cross-entropy loss function\n",
    "cost = xent.mean() + 0.01 * (w**2).sum() # the cost to minimize\n",
    "\n",
    "gw, gb = T.grad(cost, [w, b])"
   ]
  },
  {
   "cell_type": "markdown",
   "metadata": {
    "slideshow": {
     "slide_type": "subslide"
    }
   },
   "source": [
    "Gradient descent:  $ \\theta \\leftarrow \\theta - \\gamma \\cdot \\frac{\\partial }{\\partial \\theta}L $"
   ]
  },
  {
   "cell_type": "code",
   "execution_count": 18,
   "metadata": {
    "collapsed": false,
    "slideshow": {
     "slide_type": "fragment"
    }
   },
   "outputs": [],
   "source": [
    "# Compile\n",
    "train = theano.function(\n",
    "    inputs = [x, y],\n",
    "    outputs = [prediction, xent, cost],\n",
    "    updates = \n",
    "        OrderedDict([(w, w - 0.1*gw), \n",
    "                     (b, b - 0.1*gb)]),\n",
    "    allow_input_downcast=True)\n",
    "predict = theano.function(\n",
    "    inputs = [x], \n",
    "    outputs = prediction,\n",
    "    allow_input_downcast=True)"
   ]
  },
  {
   "cell_type": "code",
   "execution_count": 19,
   "metadata": {
    "collapsed": true,
    "slideshow": {
     "slide_type": "skip"
    }
   },
   "outputs": [],
   "source": [
    "# Train\n",
    "predictions = []\n",
    "errors = []\n",
    "costs = []\n",
    "fmeasures = []"
   ]
  },
  {
   "cell_type": "code",
   "execution_count": 20,
   "metadata": {
    "collapsed": false,
    "slideshow": {
     "slide_type": "fragment"
    }
   },
   "outputs": [],
   "source": [
    "# Train\n",
    "for i in range(training_steps):\n",
    "    pred, err, cost = train(D[0], D[1])\n",
    "    \n",
    "    predictions.append(pred)\n",
    "    errors.append(err)\n",
    "    costs.append(cost)"
   ]
  },
  {
   "cell_type": "code",
   "execution_count": 21,
   "metadata": {
    "collapsed": false,
    "slideshow": {
     "slide_type": "skip"
    }
   },
   "outputs": [],
   "source": [
    "# show errors\n",
    "import matplotlib.pyplot as plt\n",
    "from sklearn.metrics import f1_score\n",
    "%matplotlib inline\n",
    "\n",
    "iterations = range(training_steps)\n",
    "\n",
    "for i in iterations:\n",
    "    fmeasures.append(f1_score(D[1], predictions[i]))"
   ]
  },
  {
   "cell_type": "code",
   "execution_count": 22,
   "metadata": {
    "collapsed": false,
    "slideshow": {
     "slide_type": "subslide"
    }
   },
   "outputs": [
    {
     "data": {
      "image/png": "[encoded data removed]",
      "text/plain": [
       "<matplotlib.figure.Figure at 0x7ffa2d051050>"
      ]
     },
     "metadata": {},
     "output_type": "display_data"
    }
   ],
   "source": [
    "plt.figure(figsize=(18, 6))\n",
    "plt.plot(iterations, costs, 'b')\n",
    "plt.title('Learning process')\n",
    "plt.xlabel(\"Iteration\")\n",
    "plt.ylabel(\"Cost\")\n",
    "plt.show()"
   ]
  },
  {
   "cell_type": "code",
   "execution_count": 23,
   "metadata": {
    "collapsed": false,
    "slideshow": {
     "slide_type": "subslide"
    }
   },
   "outputs": [
    {
     "data": {
      "image/png": "[encoded data removed]",
      "text/plain": [
       "<matplotlib.figure.Figure at 0x7ffa2d0515d0>"
      ]
     },
     "metadata": {},
     "output_type": "display_data"
    }
   ],
   "source": [
    "plt.figure(figsize=(18, 6))\n",
    "plt.plot(iterations, fmeasures, 'b')\n",
    "plt.title('Predictions')\n",
    "plt.xlabel(\"Iteration\")\n",
    "plt.ylabel(\"F-measure\")\n",
    "plt.show()"
   ]
  },
  {
   "cell_type": "code",
   "execution_count": 24,
   "metadata": {
    "collapsed": false,
    "slideshow": {
     "slide_type": "skip"
    }
   },
   "outputs": [
    {
     "name": "stdout",
     "output_type": "stream",
     "text": [
      "Final model:\n",
      "[  3.96125056e-02  -2.78433063e-01   9.74851602e-02  -1.62851661e-01\n",
      "  -7.22345660e-02  -4.53377476e-02  -1.74393636e-01   8.91728049e-02\n",
      "  -2.59957127e-02  -1.57095778e-01   8.22950716e-02  -1.62353779e-01\n",
      "  -2.22365358e-02  -1.45231158e-01  -2.25931439e-01  -3.12620340e-03\n",
      "   9.80954617e-02   1.48158744e-01  -1.30826520e-01  -3.68967265e-02\n",
      "   2.00861036e-01  -3.17885648e-01   1.01001527e-01  -2.16679536e-02\n",
      "   2.14940112e-02   1.71246054e-01  -4.26648137e-02   2.91970488e-03\n",
      "  -3.42978390e-02   1.30332126e-02   1.96172282e-02   2.65601236e-02\n",
      "  -7.20008659e-02  -1.57601974e-01  -1.01998443e-02   9.17017455e-02\n",
      "  -1.05956622e-01  -8.25217193e-02   3.99744887e-02   1.38359825e-01\n",
      "   1.09111373e-01  -2.78747464e-02   9.43293303e-04  -6.25918908e-03\n",
      "  -2.17987159e-01   1.07386773e-01  -3.52409897e-02  -2.40105195e-01\n",
      "  -5.36079144e-02  -1.91841735e-02  -4.45963793e-02  -1.86152559e-01\n",
      "   1.60058650e-01   1.70897408e-01  -1.59280980e-01  -9.15931025e-02\n",
      "  -1.66222870e-01   1.76021440e-02   1.02310393e-01  -5.53315259e-02\n",
      "   3.70101954e-01  -3.71004261e-02  -1.17565809e-01  -2.20480257e-02\n",
      "   1.61389923e-02  -6.13066004e-02  -1.27770845e-01   7.88301408e-02\n",
      "  -1.03288617e-03  -1.06597102e-01  -6.86870152e-02  -4.99581612e-02\n",
      "  -1.88044247e-01   1.65846714e-02   1.18241407e-01  -9.60509552e-02\n",
      "  -5.78613139e-02   3.02852444e-01   5.55090777e-02   3.95416301e-01\n",
      "   7.65401540e-02  -1.01801239e-01   2.03868416e-01   1.45634398e-01\n",
      "  -1.37115110e-02  -9.80869188e-02  -1.03013636e-01  -1.56111568e-01\n",
      "   9.40653308e-02   1.53839669e-02   1.57067861e-01  -7.83199392e-02\n",
      "  -7.97567371e-02  -1.01108345e-01  -6.83425742e-02  -1.08054521e-01\n",
      "   1.81394229e-02   1.39784868e-01  -8.01826826e-02  -1.83183269e-01\n",
      "   1.37395765e-01   8.02639377e-02   1.12388022e-02   1.01591050e-01\n",
      "   1.33787593e-01  -1.80759383e-01   1.23401517e-01   7.96587372e-02\n",
      "   1.40826012e-01  -1.24103236e-01  -8.45875303e-02   1.17351086e-01\n",
      "  -1.44850547e-01  -3.61829708e-01   5.34951998e-03  -1.76700690e-01\n",
      "   1.04219966e-01   8.10258807e-03   5.55073522e-02  -1.09769841e-01\n",
      "   4.39126102e-02   1.50167162e-01   2.34741014e-01   1.76405122e-02\n",
      "  -4.26581231e-02  -1.54792042e-01  -4.40142943e-01  -1.04846443e-01\n",
      "   1.13276276e-02  -3.07122445e-02  -6.25857176e-02   1.52500156e-01\n",
      "   3.55437160e-01  -1.12621143e-03  -2.51626198e-01   2.37970306e-03\n",
      "   1.78806848e-01   1.32618830e-01   2.05161479e-01   9.48645081e-03\n",
      "  -7.88316192e-02   1.97042898e-01   1.71584794e-01   1.53280041e-01\n",
      "  -1.89178118e-01  -5.71793263e-02  -1.31883520e-01  -1.54840788e-01\n",
      "   2.00771143e-01  -2.52623829e-03   1.53031693e-01   1.10853925e-02\n",
      "   8.67085072e-02   7.29916012e-02   1.58558625e-01   7.22721921e-02\n",
      "   3.90698705e-02  -1.00378665e-01   1.35927743e-01  -2.12045611e-01\n",
      "  -4.95868915e-02  -1.48200607e-01  -1.57615888e-01  -1.59003794e-02\n",
      "  -2.56482166e-02   1.58472014e-02  -4.65243226e-02   1.40496868e-01\n",
      "   6.61068136e-02   1.17017103e-01  -1.42053334e-01   1.11731013e-02\n",
      "   1.12113545e-01   5.53224619e-02  -3.20889965e-02   1.00149456e-01\n",
      "   1.01761287e-01  -2.22268194e-01   4.05846788e-04   6.11824417e-02\n",
      "  -2.41111236e-01  -1.92487894e-02  -9.21372270e-02   7.17469199e-02\n",
      "  -1.35157252e-02   6.45741559e-02   6.01868446e-02   5.15848506e-02\n",
      "   4.90896082e-02   2.45993255e-01  -2.31903385e-01   7.97199011e-02\n",
      "  -1.19660957e-01   9.98288431e-02   2.79156884e-02  -3.65452046e-01\n",
      "   2.85097487e-03  -6.69467113e-02   6.82567258e-02  -7.47919329e-02\n",
      "   1.20666005e-01  -5.51410494e-02   7.21587516e-02   3.34633155e-01\n",
      "   2.88425683e-02  -1.58878280e-01  -1.36689189e-01   8.54245992e-02\n",
      "   2.33764003e-03   1.46294895e-01  -8.44486218e-02   3.60565907e-01\n",
      "   5.25624040e-02  -8.52269329e-03  -1.21892108e-02  -6.30275161e-02\n",
      "  -3.01228146e-02   4.11435652e-02   8.51530610e-02  -7.29071007e-02\n",
      "  -5.01946928e-01   1.83382961e-01  -1.75106084e-01  -5.58509846e-02\n",
      "  -5.17777051e-02   1.87921823e-02   2.83820601e-01   2.88197621e-01\n",
      "  -3.65797895e-01   1.62678403e-02  -6.88798139e-02   1.35471397e-01\n",
      "   2.07033929e-02  -1.96456060e-02  -1.03246531e-01   2.88866927e-01\n",
      "  -6.58771788e-02   1.38192282e-01   2.95185496e-01   1.99738522e-02\n",
      "   3.92400081e-02   1.39143790e-01  -4.52120751e-02   1.17246320e-01\n",
      "   8.61407235e-02   3.09633636e-01   4.04724609e-02   1.37595183e-01\n",
      "   9.81086993e-02   1.01739963e-02  -2.43995144e-01  -2.71070327e-01\n",
      "   5.14590403e-02  -1.68900901e-02   1.18028226e-01  -3.33947930e-01\n",
      "  -1.27791488e-02   1.48102508e-01  -5.89436431e-02   6.52268646e-02\n",
      "   9.43233340e-02   7.58250038e-02  -1.37244698e-01   1.30294948e-01\n",
      "  -1.22321462e-01   4.23764171e-02   2.80742082e-02   2.49795944e-01\n",
      "  -8.90872521e-02   1.61797776e-01  -7.61674268e-02  -1.26749353e-01\n",
      "   4.74851308e-02  -2.69650071e-02   2.30760719e-02  -2.04603282e-01\n",
      "   1.11133720e-01   1.07823811e-01  -3.99787473e-02   1.07710669e-01\n",
      "   2.49566910e-01  -2.07302863e-01  -2.80002114e-01  -1.08809988e-02\n",
      "   2.41970879e-01   1.21280976e-01   3.38990184e-02  -7.15733859e-04\n",
      "   1.92561192e-01   1.23896200e-01  -5.99747728e-02   1.73672250e-01\n",
      "  -2.28326191e-01  -2.06928565e-01  -1.68010544e-01   5.84405469e-02\n",
      "   1.64589438e-01   3.56837072e-02  -3.39554455e-01  -1.02005979e-01\n",
      "   1.95788824e-02   6.92854060e-02  -6.95430904e-02  -3.99148120e-02\n",
      "  -8.75481705e-02  -3.07281964e-02  -1.87324655e-01  -1.37822642e-01\n",
      "  -2.80767043e-02   2.28404237e-02   3.42733589e-02   7.62337474e-02\n",
      "   1.54621018e-01   8.55643231e-02  -3.04265498e-02  -1.04476932e-01\n",
      "  -3.23154797e-01   9.05437942e-02   1.77095764e-01  -9.02258655e-02\n",
      "   1.54828047e-02   3.76716431e-02  -3.77570365e-02   2.31890859e-02\n",
      "   5.66820116e-03   5.53259667e-02  -2.24796147e-01  -9.36657932e-02\n",
      "   8.41886102e-02  -1.52069470e-01  -1.50400153e-01  -7.38624442e-02\n",
      "  -3.18919417e-02   1.34561440e-01  -1.21271096e-01  -3.53997055e-02\n",
      "   1.44399855e-01  -5.19210364e-02   3.41562762e-02  -1.39658007e-01\n",
      "  -1.97130656e-01   3.80470110e-01  -3.10217203e-01   2.57774814e-01\n",
      "   6.08232170e-02  -2.04231185e-01   1.11319057e-01  -1.03715624e-01\n",
      "   1.16016953e-01   7.12290339e-02   2.83674452e-01  -1.49266794e-01\n",
      "  -4.82556199e-02  -1.10285776e-01   3.77131829e-02   4.47483585e-02\n",
      "  -1.67354660e-01   1.31002800e-01   8.29404635e-02  -4.09245747e-02\n",
      "  -3.70659686e-02  -2.35648612e-01   4.32847468e-02  -2.62158542e-01\n",
      "  -2.56673300e-03   1.60458377e-01   1.64299094e-01   1.03268585e-01\n",
      "  -1.36662517e-01  -5.86575304e-02   4.75778128e-02   5.15171740e-02\n",
      "  -5.80061736e-02   2.08579432e-02  -2.08217148e-02   1.39236288e-01\n",
      "   1.56424203e-03  -1.35952490e-01  -3.50068470e-02   6.49075060e-02\n",
      "   7.99470562e-02  -2.41525082e-01   8.09241515e-02  -2.36681825e-02\n",
      "   2.14478992e-01  -2.84652116e-01   1.66485917e-01  -3.75224162e-02\n",
      "   5.88534878e-02  -5.95244126e-02  -3.29253045e-01  -1.00137540e-01\n",
      "  -7.88490261e-02   7.77986981e-02   1.54322468e-01   1.48051120e-01\n",
      "  -5.15985412e-02  -2.62077843e-02   5.14998926e-02   2.63630066e-02\n",
      "   6.29538773e-02  -1.36210712e-01  -2.88297155e-02  -1.94005705e-01\n",
      "  -2.22815060e-01   9.45011216e-02  -1.85747273e-01  -2.04949172e-01\n",
      "   2.17909756e-01  -8.39277050e-03   1.41931624e-01   4.19697244e-01\n",
      "   3.06731772e-02   2.11254265e-01   1.66536449e-01   1.31609609e-01\n",
      "   2.12853756e-01  -1.01247126e-01   2.50983846e-02  -2.14834530e-01\n",
      "  -6.16012190e-02  -1.11072855e-01   1.61247876e-02  -2.38748712e-01\n",
      "   2.97643719e-03   1.42065256e-01  -7.36272247e-02  -1.24771815e-01\n",
      "   9.10058947e-02  -7.94695831e-02   6.17575842e-04   6.98001767e-02\n",
      "  -1.07563237e-01  -9.80283488e-02   1.16388113e-01   3.32013754e-03\n",
      "  -7.15439517e-02   9.70388581e-02   1.39623947e-01  -3.58767702e-01\n",
      "  -3.32708977e-01  -9.39283276e-02  -1.20644685e-01  -3.68850866e-01\n",
      "  -4.14631753e-01   1.25044505e-01  -2.20296836e-01   8.24940245e-02\n",
      "   1.36833898e-01   7.24651834e-02   1.38624458e-02   6.52641506e-02\n",
      "   3.40323452e-03   4.17556204e-02  -1.64280435e-01   1.14920789e-01\n",
      "  -3.36161528e-01   3.23541116e-02  -4.52005790e-02  -2.34842688e-01\n",
      "   1.35746007e-02   2.48162033e-02   1.37016804e-02  -7.30753749e-02\n",
      "   1.85463922e-01   1.13012016e-01   1.89062207e-01   6.11551380e-02\n",
      "   1.44633011e-01   1.25685861e-01  -6.50992419e-02  -1.16167427e-02\n",
      "   2.28103722e-02  -1.99949003e-01  -9.44445199e-02  -3.31061411e-01\n",
      "   1.83492815e-02   8.85825984e-02  -2.78117183e-01   2.13910289e-01\n",
      "  -1.11477904e-01   1.05907150e-03  -1.51391459e-01  -5.70595443e-02\n",
      "  -1.00276947e-01  -5.53530758e-02   1.11133060e-01  -1.13037858e-01\n",
      "  -2.85107221e-01  -1.53300458e-01  -8.48876750e-02  -1.64724915e-02\n",
      "   3.23240370e-03   1.38043638e-01   1.52283341e-01   1.10203623e-01\n",
      "   1.02893433e-01   2.07393047e-01  -1.69098254e-01  -3.06424711e-02\n",
      "  -2.00369819e-01  -2.75925764e-01   3.30909264e-02  -6.24244429e-02\n",
      "   1.49793346e-01   1.04499336e-01  -1.84830397e-01  -3.43076073e-03\n",
      "  -5.95231335e-02   2.12139324e-01   1.29350778e-01  -8.17040516e-02\n",
      "  -1.93306542e-01   8.76903960e-02  -3.48152312e-02   6.02057114e-02\n",
      "   1.51202386e-01   9.69595099e-02   1.78538187e-01   4.31065323e-02\n",
      "   1.71232892e-01  -1.04586536e-01  -1.05942885e-01   1.26924728e-01\n",
      "   1.95696372e-01  -4.51640297e-02  -1.63058793e-01   4.25023074e-02\n",
      "   1.13572572e-01   8.85081594e-02   9.84072064e-02  -1.74262405e-02\n",
      "  -1.69058912e-01  -2.20515531e-01  -1.03853649e-01   1.81157348e-01\n",
      "   3.29655214e-01   3.27240755e-01  -2.24524589e-01  -2.68019903e-01\n",
      "   2.23344074e-01   1.95823291e-01   9.10107999e-03   6.63325829e-02\n",
      "   3.55198425e-02  -8.28566302e-02   8.70361624e-02   7.48971227e-02\n",
      "  -4.48862139e-01   1.83780497e-01   6.41341604e-02  -1.10260507e-01\n",
      "   1.61927729e-01  -2.57355385e-02  -2.59041215e-01   1.10177172e-01\n",
      "   2.00026703e-01  -1.59172614e-01  -2.34471185e-02  -3.12308530e-01\n",
      "  -5.73971733e-03   6.69991051e-02   3.33829700e-02  -2.12483911e-01\n",
      "  -3.92799948e-02  -1.56390446e-02   1.36128979e-01   7.27056643e-02\n",
      "   9.92869121e-03   1.13951039e-01   3.59234638e-01  -2.24423863e-01\n",
      "   1.31118108e-01  -7.50048729e-02   8.14137619e-02  -1.74294938e-02\n",
      "  -2.52983704e-01  -1.97032523e-01   4.17791853e-02   6.18167684e-02\n",
      "  -1.20961064e-01   5.20055139e-02   1.68602124e-02  -3.35901280e-02\n",
      "   1.77959671e-01   7.55778088e-02   2.22447548e-02   1.43130883e-01\n",
      "  -6.11255582e-02  -3.51201082e-02   7.93754464e-02  -1.73701118e-01\n",
      "   2.10999142e-01  -2.04124366e-01  -1.57607737e-01  -1.13031922e-01\n",
      "  -1.47294095e-01  -2.86888537e-01  -2.06080106e-02  -2.90272440e-01\n",
      "  -1.13391233e-01  -7.46661955e-02  -2.43990061e-01   1.11485764e-01\n",
      "  -2.58117830e-03  -1.33967502e-01   2.72721586e-01   7.48257488e-02\n",
      "   4.04867194e-01   4.76192270e-04  -5.20596769e-02  -1.72055452e-01\n",
      "  -1.80368097e-01   1.29369216e-01   5.67147102e-02  -1.65736627e-02\n",
      "   4.54348001e-02  -2.51330454e-01  -9.94911133e-02   9.34040617e-02\n",
      "  -9.05803010e-03   1.58700408e-02  -1.47441999e-02   4.54983881e-02\n",
      "  -6.05310882e-02   2.58285514e-01   1.42719769e-01  -1.41021249e-01\n",
      "  -1.88225694e-03   3.25159141e-01  -1.44961873e-01  -9.17514037e-02\n",
      "   4.14304808e-02   1.40887553e-01  -2.07688645e-01   7.11227401e-02\n",
      "  -2.17384903e-01   1.70396657e-01   4.40809396e-02  -7.84837803e-02\n",
      "   4.68388974e-02  -2.36508320e-01   1.11258425e-01   1.77792212e-01\n",
      "  -1.49845006e-01  -3.50110883e-02  -2.14029987e-02  -1.08102376e-01\n",
      "  -5.63269204e-02   1.03473830e-02   4.81303341e-02   9.41530473e-03\n",
      "  -2.95604341e-02   2.15893033e-02  -1.53616846e-01   6.16716110e-02\n",
      "  -1.35450085e-01   7.20844132e-02   3.23146109e-01  -1.11456642e-01\n",
      "  -1.37977365e-01  -1.17757036e-01   8.52879840e-02   3.17145615e-01\n",
      "   7.49023106e-02   1.47563385e-01   1.15410320e-01  -1.74174531e-01\n",
      "  -3.00888318e-02  -2.81833661e-02  -2.70816874e-01  -2.53661185e-01\n",
      "  -3.30277128e-01  -1.72596752e-01   5.27785086e-02  -4.94477160e-02\n",
      "  -1.69120996e-01  -4.57863393e-02  -9.68289428e-02   1.75149114e-01\n",
      "  -2.02023571e-01   7.79859219e-02   4.00256755e-02  -1.06851453e-01\n",
      "   4.22745388e-02  -3.94922900e-03  -8.11356445e-02  -1.41543492e-01\n",
      "   2.39197541e-02  -9.69769337e-02   1.58071605e-01   2.51149347e-01\n",
      "   1.22054651e-01   1.83653687e-01  -1.09181279e-01   1.11031891e-01\n",
      "  -9.33403629e-03  -3.99447705e-02   1.33341048e-02  -4.54155796e-02\n",
      "   1.36118199e-01  -1.36568628e-01   5.25276304e-02  -1.39005793e-01\n",
      "   7.30682928e-02   5.80057928e-02  -2.98474685e-02   2.09416113e-01\n",
      "  -6.03828580e-02  -4.74010757e-02  -8.54827165e-02  -3.11417100e-02\n",
      "  -3.95882926e-02  -1.02330690e-01  -8.99755556e-02   1.85226830e-01\n",
      "   2.77123431e-01   1.94988175e-02   2.19658306e-01   1.49977717e-01\n",
      "  -4.04231202e-02   3.75662861e-03   1.59341070e-01  -7.24463618e-03\n",
      "  -6.64210252e-02   3.87261730e-02   8.98370143e-03   2.25570460e-01\n",
      "  -2.36383424e-01  -2.61558273e-01   3.09420434e-03  -1.38828421e-01\n",
      "  -2.47151165e-03  -7.17384626e-02   1.47474154e-01   8.82142219e-02\n",
      "   5.24432545e-02   3.32170342e-01   6.39269890e-02   2.13426100e-01\n",
      "   9.08770304e-02  -1.63101140e-01  -1.00688344e-01   8.49639877e-02\n",
      "   1.88372944e-01   1.82859818e-02   8.59638609e-02  -8.04536390e-02\n",
      "   1.95662284e-01  -7.32761273e-02  -1.80061598e-01   2.75898800e-03\n",
      "   3.10871357e-02  -1.56143448e-01  -4.94484600e-02  -1.58432367e-01\n",
      "  -1.59520259e-02   3.07518566e-01  -2.75762838e-02   8.19025551e-02\n",
      "  -1.00967587e-01   9.86006928e-02   2.29269542e-01   5.42217301e-02\n",
      "   1.01017658e-01   6.24269107e-02  -3.67336592e-01   1.17448880e-01\n",
      "   2.79146271e-01   1.01603505e-01   1.53131811e-01  -8.67387408e-02\n",
      "  -4.71824913e-02   2.41532286e-02   5.05056037e-02  -6.42684115e-02\n",
      "   1.38352337e-02   1.82260773e-01   6.33376987e-02   7.37428582e-02\n",
      "  -1.98301833e-01   1.69793709e-01   6.41069857e-02   5.04779628e-02]"
     ]
    },
    {
     "ename": "NameError",
     "evalue": "name 'b_1' is not defined",
     "output_type": "error",
     "traceback": [
      "\u001b[1;31m---------------------------------------------------------------------------\u001b[0m",
      "\u001b[1;31mNameError\u001b[0m                                 Traceback (most recent call last)",
      "\u001b[1;32m<ipython-input-24-d5570ed56ef1>\u001b[0m in \u001b[0;36m<module>\u001b[1;34m()\u001b[0m\n\u001b[0;32m      1\u001b[0m \u001b[1;32mprint\u001b[0m \u001b[1;34m\"Final model:\"\u001b[0m\u001b[1;33m\u001b[0m\u001b[0m\n\u001b[1;32m----> 2\u001b[1;33m \u001b[1;32mprint\u001b[0m \u001b[0mw\u001b[0m\u001b[1;33m.\u001b[0m\u001b[0mget_value\u001b[0m\u001b[1;33m(\u001b[0m\u001b[1;33m)\u001b[0m\u001b[1;33m,\u001b[0m \u001b[0mb_1\u001b[0m\u001b[1;33m.\u001b[0m\u001b[0mget_value\u001b[0m\u001b[1;33m(\u001b[0m\u001b[1;33m)\u001b[0m\u001b[1;33m\u001b[0m\u001b[0m\n\u001b[0m\u001b[0;32m      3\u001b[0m \u001b[1;32mprint\u001b[0m \u001b[1;34m\"target values for D: \"\u001b[0m\u001b[1;33m,\u001b[0m \u001b[0mD\u001b[0m\u001b[1;33m[\u001b[0m\u001b[1;36m1\u001b[0m\u001b[1;33m]\u001b[0m\u001b[1;33m\u001b[0m\u001b[0m\n\u001b[0;32m      4\u001b[0m \u001b[1;32mprint\u001b[0m \u001b[1;34m\"predictions on D: \"\u001b[0m\u001b[1;33m,\u001b[0m \u001b[0mpredict\u001b[0m\u001b[1;33m(\u001b[0m\u001b[0mD\u001b[0m\u001b[1;33m[\u001b[0m\u001b[1;36m0\u001b[0m\u001b[1;33m]\u001b[0m\u001b[1;33m)\u001b[0m\u001b[1;33m\u001b[0m\u001b[0m\n",
      "\u001b[1;31mNameError\u001b[0m: name 'b_1' is not defined"
     ]
    }
   ],
   "source": [
    "print \"Final model:\"\n",
    "print w.get_value(), b_1.get_value()\n",
    "print \"target values for D: \", D[1]\n",
    "print \"predictions on D: \", predict(D[0])"
   ]
  },
  {
   "cell_type": "markdown",
   "metadata": {
    "slideshow": {
     "slide_type": "slide"
    }
   },
   "source": [
    "# Case study 2: Multi-Layer Perceptron\n"
   ]
  },
  {
   "cell_type": "markdown",
   "metadata": {
    "slideshow": {
     "slide_type": "fragment"
    }
   },
   "source": [
    "<table style=\"border:none;\">\n",
    "<tr style=\"border:none;\">\n",
    "<td style=\"border:none;\"> \n",
    "    \n",
    "<ul style=\"width: 450px;\">\n",
    "<li>Hidden layer(s)</li>\n",
    "<br>\n",
    "<li>Discriminative function</li>\n",
    "<br>\n",
    "$$ 𝑝(𝑦 = 1|𝑥) = f(w_2∙(g(w_1∙x + b_1) + b_2))$$\n",
    "<br>\n",
    "$f$ and $g$ can be $sigmoid/tanh$ functions\n",
    "<br>\n",
    "<br>\n",
    "<li>Objective function</li>\n",
    "<br>\n",
    "Cross-entropy\n",
    "<br>\n",
    "$$ 𝐽 = −𝑦∙log(𝑝) − (1 − 𝑦)∙log(1 − 𝑝) $$\n",
    "<br>\n",
    "</ul>\n",
    "\n",
    "</td>\n",
    "<td style=\"border:none; width: 250px;\">\n",
    "    \n",
    "<img src=\"images/multilayer.png\" style=\"width: 200px;\"> \n",
    "<img src=\"images/sigmoid-function.png\" style=\"width: 200px;\">\n",
    "\n",
    "</td> \n",
    "</tr>\n",
    "</table>"
   ]
  },
  {
   "cell_type": "markdown",
   "metadata": {
    "slideshow": {
     "slide_type": "subslide"
    }
   },
   "source": [
    "# Case study 2: Multi-Layer Perceptron"
   ]
  },
  {
   "cell_type": "code",
   "execution_count": 27,
   "metadata": {
    "collapsed": false,
    "slideshow": {
     "slide_type": "fragment"
    }
   },
   "outputs": [
    {
     "name": "stdout",
     "output_type": "stream",
     "text": [
      "\n"
     ]
    }
   ],
   "source": [
    "import numpy\n",
    "import theano\n",
    "import theano.tensor as T\n",
    "rng = numpy.random\n",
    "\n",
    "N = 400 # number of samples\n",
    "feats = 784 # dimensionality of features\n",
    "D = (rng.randn(N, feats), rng.randint(size=N, low=0, high=2))\n",
    "training_steps = 1000"
   ]
  },
  {
   "cell_type": "code",
   "execution_count": 28,
   "metadata": {
    "collapsed": false,
    "slideshow": {
     "slide_type": "fragment"
    }
   },
   "outputs": [],
   "source": [
    "# declare Theano symbolic variables\n",
    "x = T.matrix('x')\n",
    "y = T.vector('y')\n",
    "w_1 = theano.shared(rng.randn(784,300), name='w1')\n",
    "b_1 = theano.shared(numpy.zeros((300,)), name='b1')\n",
    "w_2 = theano.shared(rng.randn(300), name='w2')\n",
    "b_2 = theano.shared(0., name='b2')"
   ]
  },
  {
   "cell_type": "code",
   "execution_count": 29,
   "metadata": {
    "collapsed": false,
    "slideshow": {
     "slide_type": "skip"
    }
   },
   "outputs": [
    {
     "name": "stdout",
     "output_type": "stream",
     "text": [
      "Initial model:\n",
      "[[ 0.16753017  0.37914632 -1.36597333 ..., -1.05903447 -1.23129713\n",
      "  -0.42068325]\n",
      " [ 0.18743259 -1.55847396 -0.08413758 ..., -0.04416159 -0.6613464   1.971491  ]\n",
      " [-0.49042035  1.13130496 -0.19310258 ..., -1.63863135 -0.70306244\n",
      "   0.35399985]\n",
      " ..., \n",
      " [-0.56127081  1.19272483  0.49092991 ..., -0.88355754  2.38922957\n",
      "   0.19512698]\n",
      " [ 0.90678367 -1.37724433 -0.87164004 ..., -0.17850326  0.15323504\n",
      "  -0.2414785 ]\n",
      " [-0.04028265 -1.67689507 -0.09370612 ...,  1.03183464  1.17336096\n",
      "   1.3801636 ]] [ 0.  0.  0.  0.  0.  0.  0.  0.  0.  0.  0.  0.  0.  0.  0.  0.  0.  0.\n",
      "  0.  0.  0.  0.  0.  0.  0.  0.  0.  0.  0.  0.  0.  0.  0.  0.  0.  0.\n",
      "  0.  0.  0.  0.  0.  0.  0.  0.  0.  0.  0.  0.  0.  0.  0.  0.  0.  0.\n",
      "  0.  0.  0.  0.  0.  0.  0.  0.  0.  0.  0.  0.  0.  0.  0.  0.  0.  0.\n",
      "  0.  0.  0.  0.  0.  0.  0.  0.  0.  0.  0.  0.  0.  0.  0.  0.  0.  0.\n",
      "  0.  0.  0.  0.  0.  0.  0.  0.  0.  0.  0.  0.  0.  0.  0.  0.  0.  0.\n",
      "  0.  0.  0.  0.  0.  0.  0.  0.  0.  0.  0.  0.  0.  0.  0.  0.  0.  0.\n",
      "  0.  0.  0.  0.  0.  0.  0.  0.  0.  0.  0.  0.  0.  0.  0.  0.  0.  0.\n",
      "  0.  0.  0.  0.  0.  0.  0.  0.  0.  0.  0.  0.  0.  0.  0.  0.  0.  0.\n",
      "  0.  0.  0.  0.  0.  0.  0.  0.  0.  0.  0.  0.  0.  0.  0.  0.  0.  0.\n",
      "  0.  0.  0.  0.  0.  0.  0.  0.  0.  0.  0.  0.  0.  0.  0.  0.  0.  0.\n",
      "  0.  0.  0.  0.  0.  0.  0.  0.  0.  0.  0.  0.  0.  0.  0.  0.  0.  0.\n",
      "  0.  0.  0.  0.  0.  0.  0.  0.  0.  0.  0.  0.  0.  0.  0.  0.  0.  0.\n",
      "  0.  0.  0.  0.  0.  0.  0.  0.  0.  0.  0.  0.  0.  0.  0.  0.  0.  0.\n",
      "  0.  0.  0.  0.  0.  0.  0.  0.  0.  0.  0.  0.  0.  0.  0.  0.  0.  0.\n",
      "  0.  0.  0.  0.  0.  0.  0.  0.  0.  0.  0.  0.  0.  0.  0.  0.  0.  0.\n",
      "  0.  0.  0.  0.  0.  0.  0.  0.  0.  0.  0.  0.]\n",
      "[ 0.67385654 -0.76942699  1.57110956 -0.87238626 -1.0602955   0.76336076\n",
      "  2.78663571  0.37532123  1.25693709 -0.9800149  -0.097714   -0.5202842\n",
      "  1.34831545  0.23699077  2.42618608 -0.17459118  0.16321227  0.49959255\n",
      " -0.26829875  0.89014869  0.19180913  1.71296554  1.48749683 -0.09513949\n",
      "  2.16625818 -0.37347161 -0.4852066  -0.39014726 -0.15501867 -0.2363003\n",
      " -0.45529197  0.60803612 -0.08443481  0.3468919  -1.45311622  0.4868909\n",
      "  0.36645235  1.50642006  0.00768953  1.16288334 -0.36458748 -0.69875254\n",
      "  1.69993331  0.16014992  0.38494009  0.814228    0.50927559 -1.64445443\n",
      " -0.95165506  0.24112371 -0.16325192  1.37295705  0.47556426 -0.78817946\n",
      " -1.60988182  0.37953226 -1.71921308 -0.98778201  1.21290133 -0.82638609\n",
      " -0.35491367  0.04005937 -0.99307513 -1.28684634 -0.20733765 -0.32927488\n",
      "  1.79251107 -0.2495669   0.14679094 -0.30972217  0.7615625  -1.18111182\n",
      "  0.71070215  0.7768827  -1.32105352  0.95734928  0.88431218 -0.65254829\n",
      " -0.96816472  0.50555672  1.35554455 -0.06986726 -0.51098434 -0.34179672\n",
      "  0.08716479 -0.10165939  1.03929312  0.45170655 -0.2751386  -0.52390722\n",
      " -0.57410349  0.7117657   1.99599563 -0.57335581 -0.44583373 -1.10667419\n",
      "  0.80203456 -0.55561029 -0.4652484  -0.16676149  1.86212482 -1.30507407\n",
      "  0.78673541 -0.66217991 -0.20924387  0.11126772 -0.36856167  0.74962845\n",
      "  0.52403188 -1.87246448  0.76522119 -1.34109078 -0.58478459  1.51720183\n",
      " -1.21090511  1.27574447  0.19525369  0.09085492 -0.71259756  0.22701688\n",
      "  0.32432929  2.04919362  0.8258341   0.13610687  2.00842974  0.24012762\n",
      "  0.68254644 -0.79725277 -0.44768501  1.2425807   0.80690996  0.06673756\n",
      "  0.78994204 -0.33534194 -0.1291174  -0.15019918  1.86883125  2.16409636\n",
      "  0.76657876  1.82768727 -0.3306575   1.58645254 -1.44590155  0.75344868\n",
      " -1.32386934 -1.4500118   0.02195195  0.12494829 -0.99604705 -1.09253134\n",
      " -0.55075338  1.3980446   0.38104531 -0.39742938  0.37408732 -1.1385293\n",
      " -0.26694395 -0.72573869  1.03424028 -0.23357632  0.33741166 -1.65472346\n",
      " -0.7556893   0.78819592  1.04983137 -1.21610201  0.80908281 -2.35445131\n",
      "  1.3003048  -0.61360867 -1.51683661 -0.40330779  1.13479272  0.15001939\n",
      "  0.67313978  0.12800759 -1.05590742  0.72306056  0.32149774 -0.73234183\n",
      "  0.42780348 -0.81290158 -0.24334919 -0.00720598  0.96792829  1.07101864\n",
      " -0.13793253  1.65736532  0.1307511  -1.01191636 -0.70624291 -0.84499705\n",
      "  0.87278877 -0.82061504 -1.91523129 -1.0487229   1.44407638  1.20649456\n",
      "  0.74539388  0.15723057 -0.10564248  0.48815534  0.13328024 -0.36152051\n",
      " -0.67064894  0.72293886  0.52203689 -0.58367189  0.68967764 -0.34054134\n",
      "  0.30413586  1.93828137  0.61504592  0.97649232  2.02499131 -2.06896985\n",
      "  1.47428417  0.5844132  -0.55496386 -0.80238092  2.54453877  0.65521841\n",
      " -0.35196429  0.55360639 -0.38837657  1.75741664  0.42038351  1.14276784\n",
      "  1.50281615 -0.90124494 -0.58560975 -0.94852116  0.48304809 -0.64365319\n",
      "  1.81511421  0.16055735 -1.62674525  0.40536982  0.46801847 -0.20092663\n",
      " -1.58726191 -0.96659748 -1.07954207 -0.56277553 -1.25565179 -1.01859741\n",
      "  0.75920595 -0.09592897 -0.0603321   0.38164599 -0.28489336 -1.86179303\n",
      " -0.0937246  -1.17654824 -0.07807827  1.28410089  1.24361695  0.35410443\n",
      " -1.29529652  0.18796759 -0.04370745  0.64130833  2.21353893  1.0063864\n",
      "  0.20275721 -0.37180845  0.23968966  0.32520965 -0.8273209  -0.36163889\n",
      "  0.63119379  1.28962964  1.03147065 -0.45989238 -0.78348137  2.08564663\n",
      "  0.41674055 -0.34755325 -0.32791356  0.25255371  0.46273202 -0.5022182\n",
      "  2.18913908  1.04014554  1.00716539  1.0979557  -0.20723534  0.89900507\n",
      " -0.37083428 -1.43929648 -0.12528716  0.55651625  1.27509897  0.45761828\n",
      " -0.28174731 -1.02128024  0.62780539  1.13236258  0.87499175 -0.36758586] 0.0\n"
     ]
    }
   ],
   "source": [
    "print \"Initial model:\"\n",
    "print w_1.get_value(), b_1.get_value()\n",
    "print w_2.get_value(), b_2.get_value()"
   ]
  },
  {
   "cell_type": "code",
   "execution_count": 30,
   "metadata": {
    "collapsed": false,
    "slideshow": {
     "slide_type": "subslide"
    }
   },
   "outputs": [],
   "source": [
    "# Construct Theano expression graph\n",
    "p_1 = T.nnet.sigmoid(-T.dot(T.nnet.sigmoid(-T.dot(x, w_1) - b_1), w_2) - b_2)\n",
    "# probability that target = 1\n",
    "prediction = p_1 > 0.5 # the prediction threshold\n",
    "xent = -y*T.log(p_1) - (1 - y)*T.log(1 - p_1) # cross-entropy loss func\n",
    "cost = xent.mean() + 0.01 * (w**2).sum() # the cost to minimize\n",
    "gw_1, gb_1, gw_2, gb_2 = T.grad(cost, [w_1, b_1, w_2, b_2])"
   ]
  },
  {
   "cell_type": "code",
   "execution_count": 31,
   "metadata": {
    "collapsed": false,
    "slideshow": {
     "slide_type": "fragment"
    }
   },
   "outputs": [],
   "source": [
    "# Compile\n",
    "train = theano.function(\n",
    "    inputs = [x, y],\n",
    "    outputs = [prediction, xent, cost],\n",
    "    updates = \n",
    "        OrderedDict([(w_1, w_1 - 0.1*gw_1), \n",
    "                     (b_1, b_1 - 0.1*gb_1),\n",
    "                     (w_2, w_2 - 0.1*gw_2),\n",
    "                     (b_2, b_2 - 0.1*gb_2)\n",
    "                    ]),\n",
    "    allow_input_downcast=True)\n",
    "predict = theano.function(\n",
    "    inputs = [x], \n",
    "    outputs = prediction, \n",
    "    allow_input_downcast=True)"
   ]
  },
  {
   "cell_type": "code",
   "execution_count": 32,
   "metadata": {
    "collapsed": false,
    "slideshow": {
     "slide_type": "skip"
    }
   },
   "outputs": [],
   "source": [
    "# Train\n",
    "predictions = []\n",
    "errors = []\n",
    "costs = []\n",
    "fmeasures = []"
   ]
  },
  {
   "cell_type": "code",
   "execution_count": 33,
   "metadata": {
    "collapsed": false,
    "slideshow": {
     "slide_type": "fragment"
    }
   },
   "outputs": [],
   "source": [
    "# Train\n",
    "for i in range(training_steps):\n",
    "    pred, err, cost = train(D[0], D[1])\n",
    "    \n",
    "    predictions.append(pred)\n",
    "    errors.append(err)\n",
    "    costs.append(cost)"
   ]
  },
  {
   "cell_type": "code",
   "execution_count": 34,
   "metadata": {
    "collapsed": true,
    "slideshow": {
     "slide_type": "skip"
    }
   },
   "outputs": [],
   "source": [
    "# show errors\n",
    "import matplotlib.pyplot as plt\n",
    "from sklearn.metrics import f1_score\n",
    "%matplotlib inline\n",
    "\n",
    "iterations = range(training_steps)\n",
    "\n",
    "for i in iterations:\n",
    "    fmeasures.append(f1_score(D[1], predictions[i]))"
   ]
  },
  {
   "cell_type": "code",
   "execution_count": 35,
   "metadata": {
    "collapsed": false,
    "slideshow": {
     "slide_type": "subslide"
    }
   },
   "outputs": [
    {
     "data": {
      "image/png": "[encoded data removed]",
      "text/plain": [
       "<matplotlib.figure.Figure at 0x7ffa33e1f190>"
      ]
     },
     "metadata": {},
     "output_type": "display_data"
    }
   ],
   "source": [
    "plt.figure(figsize=(18, 6))\n",
    "plt.plot(iterations, costs, 'b')\n",
    "plt.title('Learning process')\n",
    "plt.xlabel(\"Iteration\")\n",
    "plt.ylabel(\"Cost\")\n",
    "plt.show()"
   ]
  },
  {
   "cell_type": "code",
   "execution_count": 103,
   "metadata": {
    "collapsed": false,
    "slideshow": {
     "slide_type": "subslide"
    }
   },
   "outputs": [
    {
     "data": {
      "image/png": "[encoded data removed]",
      "text/plain": [
       "<matplotlib.figure.Figure at 0x7fb3ffee0cd0>"
      ]
     },
     "metadata": {},
     "output_type": "display_data"
    }
   ],
   "source": [
    "plt.figure(figsize=(18, 6))\n",
    "plt.plot(iterations, fmeasures, 'b')\n",
    "plt.title('Predictions')\n",
    "plt.xlabel(\"Iteration\")\n",
    "plt.ylabel(\"F-measure\")\n",
    "plt.show()"
   ]
  },
  {
   "cell_type": "code",
   "execution_count": 36,
   "metadata": {
    "collapsed": false,
    "slideshow": {
     "slide_type": "skip"
    }
   },
   "outputs": [
    {
     "name": "stdout",
     "output_type": "stream",
     "text": [
      "Final model:\n",
      "[[ 0.1791781   0.36797047 -1.41090861 ..., -1.08059312 -1.24228445\n",
      "  -0.41986412]\n",
      " [ 0.18935857 -1.55003229 -0.07877603 ..., -0.05212112 -0.65798339\n",
      "   1.96621864]\n",
      " [-0.51138688  1.14958477 -0.21055632 ..., -1.65339444 -0.72241484\n",
      "   0.34999822]\n",
      " ..., \n",
      " [-0.56238825  1.15200913  0.54006145 ..., -0.86296181  2.39856097\n",
      "   0.18304593]\n",
      " [ 0.94694669 -1.36924742 -0.88704504 ..., -0.16451224  0.15615925\n",
      "  -0.23891996]\n",
      " [-0.03526568 -1.70656266 -0.08917834 ...,  1.03344667  1.16660065\n",
      "   1.3923505 ]] [ -1.02289614e-02   3.40167600e-03  -7.34639322e-03   1.19536066e-02\n",
      "   1.82144789e-02   9.23699476e-04  -1.38437032e-04  -3.33633362e-03\n",
      "   1.53345129e-02  -9.53536665e-03   4.81083793e-03   2.42865136e-02\n",
      "   1.63190670e-02   5.61957799e-04  -3.41033360e-03  -5.54428568e-03\n",
      "   1.56567258e-04   3.41550987e-03  -1.17624907e-02  -9.11291661e-04\n",
      "  -1.47514642e-03   1.64680129e-02   1.92766840e-02  -4.05019881e-03\n",
      "   8.80865805e-04  -9.17749485e-03   4.30785453e-03   6.61531601e-03\n",
      "  -1.15525354e-03  -2.85674267e-02  -4.78944321e-03   2.23729544e-02\n",
      "  -4.49875353e-03   4.29995219e-05  -1.17967763e-03   3.70896454e-03\n",
      "  -6.65437925e-03   1.58950471e-02   1.44480857e-02   8.93918866e-03\n",
      "   1.02923804e-02   9.11980285e-03  -1.31981168e-02  -1.50531129e-03\n",
      "   2.68393514e-02   1.01603508e-02   5.65128749e-03  -2.08084833e-02\n",
      "   2.25838064e-03   4.21718463e-03  -3.85772748e-03   3.15172230e-02\n",
      "  -2.50177671e-04  -3.08375584e-03  -2.31442155e-02   6.26382699e-03\n",
      "   4.33616648e-03   1.87742534e-02   2.66236289e-02   3.19976029e-02\n",
      "  -1.32205835e-02   2.88983137e-06  -2.47908513e-02  -1.99054390e-02\n",
      "  -6.23685695e-03  -1.30474989e-02   3.79381225e-02  -1.42018407e-02\n",
      "  -4.88928273e-03  -1.11954176e-02  -2.74083733e-02   5.24588999e-03\n",
      "   3.63170500e-03   1.37635699e-02   3.19784054e-02  -2.14173678e-02\n",
      "   2.40126513e-02  -1.57654442e-02   7.64384867e-03   7.52560105e-03\n",
      "   1.92536917e-02  -2.96435183e-04  -4.87536568e-03   1.25082345e-02\n",
      "   1.17280658e-03  -4.36909536e-03   2.32762222e-02   1.28423968e-02\n",
      "  -7.90605435e-03   3.37268965e-03  -2.73635229e-02   8.35319784e-04\n",
      "  -2.17404221e-04  -1.95773714e-02  -1.29473777e-02   6.88252091e-03\n",
      "   7.74423380e-03  -7.93162793e-03  -4.14749115e-03   1.83378328e-03\n",
      "   5.79614864e-04  -2.48447299e-02  -6.64005434e-05  -3.47413103e-02\n",
      "  -1.89943502e-03  -1.25708057e-04   2.07446043e-03   2.91203165e-03\n",
      "   1.57312969e-02  -4.19753521e-03  -3.66533464e-03  -8.88478361e-04\n",
      "   5.49143522e-03  -9.09037383e-03  -4.11391072e-03   1.21135409e-02\n",
      "   7.95980986e-04   4.63560896e-04   4.43649649e-03   1.33466839e-04\n",
      "   5.64839410e-03  -1.22801546e-02   3.30294335e-03   1.47939134e-03\n",
      "   7.47096285e-03   5.77418318e-03  -3.07430601e-03  -3.66757797e-02\n",
      "  -2.70969319e-03   1.23428382e-02  -5.41872058e-03  -3.42303264e-03\n",
      "  -1.91935857e-02  -6.86954710e-03   1.41831680e-03  -5.28425053e-03\n",
      "   3.24367983e-02  -1.63620079e-03   9.71705242e-03   2.15692779e-02\n",
      "  -5.19168435e-04   2.89686584e-02  -1.21479960e-02   1.10347641e-03\n",
      "   3.53242891e-03  -2.00198518e-02  -8.05227741e-03   4.22373308e-04\n",
      "   2.32883764e-02  -2.77724840e-03  -5.14068914e-03  -5.20816174e-03\n",
      "   1.43879519e-02  -2.51193490e-03   5.52597552e-03  -1.76349484e-03\n",
      "   9.03497086e-03  -9.98745635e-03   6.53947647e-05  -9.89059816e-04\n",
      "   1.41061316e-03   4.34263448e-03  -2.12047786e-03   4.78944811e-03\n",
      "   9.64680783e-03  -1.07316971e-02   1.13980245e-02   1.41121376e-02\n",
      "   2.70029233e-02  -1.95163200e-02  -3.09124253e-02  -1.15778136e-02\n",
      "  -1.31679783e-02   1.98742630e-03   1.39909420e-03   6.88663359e-03\n",
      "   2.41167839e-02  -7.01320312e-03   1.43896937e-03   2.37683417e-02\n",
      "   9.33325749e-03  -1.40449505e-02  -4.06313922e-04   1.16514109e-02\n",
      "  -1.55592771e-02  -4.58848193e-04  -6.45530192e-03   4.50967137e-02\n",
      "   2.90137738e-03  -1.56082858e-02   2.27315114e-02  -5.94802488e-03\n",
      "  -7.06499098e-03   6.99589881e-03  -1.72322980e-02  -2.95378193e-02\n",
      "   4.41795806e-03   1.61022876e-02  -1.07949848e-02   6.47732535e-04\n",
      "  -2.03627830e-03   5.33188046e-04  -1.04207047e-02   5.12881732e-03\n",
      "   5.90683906e-03  -1.26912732e-03  -6.96170450e-03   2.23520091e-02\n",
      "  -7.67828626e-03   4.18171154e-03  -8.61352957e-05  -5.00404132e-02\n",
      "   3.63021250e-03  -2.65515700e-03   9.02952126e-03  -2.12441994e-02\n",
      "   1.02914757e-03   1.15230772e-02   5.64233496e-03  -1.12660639e-02\n",
      "  -1.68581341e-02  -1.54488579e-03  -3.13570804e-03   1.48962024e-02\n",
      "   7.67325512e-03  -1.90011347e-02   8.76270629e-04  -3.26105105e-02\n",
      "   3.11854685e-02  -2.29267904e-02   1.75713530e-02   1.15431227e-02\n",
      "  -1.81190446e-02  -8.03886213e-03   1.32959932e-02   1.59495709e-03\n",
      "   1.06899110e-02   4.26966955e-03   1.54625706e-03  -5.01295400e-03\n",
      "   7.95726226e-03   3.51162733e-03   2.09097776e-03  -1.21052696e-02\n",
      "   3.03034749e-03   6.21809290e-03   2.34378613e-02   2.53632010e-03\n",
      "  -4.73560373e-03   1.47581387e-02   2.91307416e-03  -2.09621973e-02\n",
      "   9.35040179e-04  -2.18076222e-02  -1.06221434e-02   2.91233419e-02\n",
      "   1.88961789e-02  -4.63121531e-04  -2.03252227e-02   3.64605964e-04\n",
      "   9.49425000e-04  -2.79497710e-03   5.64044324e-03  -2.83437407e-03\n",
      "  -9.58961771e-04   8.36864181e-04   3.40338952e-03   7.39817160e-04\n",
      "  -2.97088969e-03   3.19008659e-03  -7.81876834e-03   8.39878801e-03\n",
      "   2.19594406e-02   7.99901093e-03  -2.60578175e-02   2.05684274e-02\n",
      "  -4.28652229e-03   2.16846259e-03  -1.04027990e-02   1.41618625e-03\n",
      "   1.02188327e-02   1.58327448e-02   4.94040738e-02   2.83723414e-05\n",
      "   2.00836194e-02   2.88964289e-02  -8.06357919e-03   2.40533660e-02\n",
      "   1.15748839e-02   1.43317015e-02   1.80165539e-03   6.37496448e-03\n",
      "  -7.73284828e-03  -5.33434005e-03  -3.55390946e-03   3.12688463e-03\n",
      "  -3.29279106e-03  -2.86381194e-03   3.67784049e-03   2.31706654e-03]\n",
      "[ 0.4231954  -1.04187479  0.87111885 -1.26753186 -1.1131295   0.98139612\n",
      "  2.01362884  0.57625766  0.73715035 -0.83178905 -0.06964645 -1.01383618\n",
      "  1.3861418  -0.12073785  1.85597727 -0.06172954 -0.048345    0.52332379\n",
      " -0.53107614  0.62135213  0.07269533  1.40544898  0.61990084 -0.15198793\n",
      "  1.52807457 -0.08828673 -0.61708062 -0.90877789 -0.12102391 -0.67240151\n",
      " -0.89454006  0.60465143  0.33209685  0.13323178 -1.27942988  0.44499282\n",
      "  0.68151159  1.53093598 -0.67889959  1.00085356 -0.69583904 -0.49107252\n",
      "  0.95537979  0.37596184  0.46525403  1.09790648  0.18178213 -1.82501094\n",
      " -0.63260627 -0.26471036 -0.15025656  1.11547447  0.52375739 -1.24612636\n",
      " -1.42458134  0.03451639 -1.88588909 -1.14020341  1.10142486 -0.86799675\n",
      " -0.88712687  0.15153068 -0.89601287 -1.03831425 -0.74978014 -1.02320303\n",
      "  1.51818658 -0.0941731  -0.1242438  -0.6713833   0.57055088 -1.38619483\n",
      "  0.76912604  0.6114323  -1.06192072  0.8347285   0.71129876 -0.47931457\n",
      " -1.05948444  0.52780843  1.49953895  0.13428248 -0.18262467 -0.72418573\n",
      " -0.46855218 -0.09736421  0.69924219  0.59748428 -0.06610136 -0.71014928\n",
      " -0.58702663  0.65343144  1.72217319 -0.9002043  -0.44015981 -1.16700003\n",
      "  0.53578927 -0.8680228  -0.09799435 -0.21877964  1.54172729 -1.49502037\n",
      "  0.83214028 -1.62811905  0.05673312 -0.00936632 -0.3989672   0.82643517\n",
      "  0.79928916 -1.92278825  0.74474157 -1.19355077 -0.6410715   1.38444917\n",
      " -1.07243771  1.16330675  0.25448995  0.21523125 -0.61550347  0.22655964\n",
      "  0.79095342  1.43626271  0.98249549  0.06152594  1.75504141  0.11039042\n",
      "  0.48918613 -1.07063564 -0.39683399  1.2837268   0.40566284  0.22514997\n",
      "  0.53106336 -0.205251   -0.03156272 -0.18854151  1.50545465  2.17265258\n",
      "  0.67831179  1.3734423  -0.03006795  1.13246429 -1.35404725  0.90259353\n",
      " -0.9908922  -1.93694852 -0.21268167 -0.09078934 -1.34372686 -1.63798169\n",
      " -0.63048689  1.46844541  0.94836237 -0.11375534  0.21076913 -1.30210863\n",
      " -0.26530689 -0.76716069  0.29168126 -0.21012439 -0.08788433 -1.44608746\n",
      " -0.50371564  0.54357266  1.08949115 -1.14398867  0.58728747 -2.16685357\n",
      "  1.44685245 -0.45536049 -1.5721778  -0.18025753  0.96152036 -0.26224654\n",
      "  0.66608316 -0.69178314 -1.37919254  0.7179264  -0.05075139 -1.4490301\n",
      "  0.36745417 -0.93981708 -0.01251315 -0.37098231  0.80326466  0.86719948\n",
      " -0.22510046  1.33254692 -0.13878707 -1.4108215  -1.04711162 -0.63096551\n",
      "  0.93221    -0.92618635 -1.90917932 -1.54946257  1.29219424  1.18698241\n",
      "  0.60251278 -0.06374406 -0.14060559 -0.13588893 -0.4322708  -0.37524179\n",
      " -0.83827117  0.44024247  0.62193947 -0.71619429  0.77585061 -0.10485702\n",
      "  0.3752876   1.77823114  0.59950221  0.57439521  1.52325145 -1.91436253\n",
      "  1.55398705  0.6861969  -0.48162476 -0.87030578  1.91483283  0.65086371\n",
      "  0.06066101  0.60736068 -0.57057126  1.56681289 -0.10506562  0.94083838\n",
      "  1.13499898 -0.9562231  -0.58471164 -0.97936804  0.5578573  -0.34443207\n",
      "  1.61604141  0.09035808 -1.2986377   0.48259425 -0.44449752  0.1075596\n",
      " -1.81699237 -0.88505923 -1.26584072 -0.704691   -1.69148905 -1.1794343\n",
      "  0.64172764 -0.00897454 -0.50984672  0.24522773 -0.47902817 -1.78106418\n",
      " -0.03489412 -0.77365173 -0.27504709  1.08442823  0.9504292   0.08824355\n",
      " -1.76688624  0.04502306  0.23398181  0.45009707  2.23613219  0.25251353\n",
      " -0.33786418 -0.34438098  0.34228511 -0.22465649 -0.90095248 -0.2747731\n",
      "  0.72556549  1.14359752  0.82360673 -1.04364332 -1.08171042  1.80956605\n",
      "  0.35944078  0.02716577 -0.60682999  0.04656704  0.85662328 -0.64417174\n",
      "  1.79666913  0.87603935  0.89838164  1.04158368 -0.94367119  0.72521079\n",
      " -0.30447909 -1.78022658  0.03895085  0.35821687  0.96016835  0.2713189\n",
      " -0.33248462 -0.84372704  0.79381019  0.64036035  0.21882252 -0.26706618] -0.245600880051\n",
      "target values for D:  [1 1 1 0 1 0 0 0 0 0 0 1 0 1 0 0 0 1 1 1 0 0 0 0 0 0 1 0 1 1 0 0 0 1 0 0 0\n",
      " 1 0 0 0 0 1 1 1 0 1 0 0 1 1 1 1 0 1 0 0 0 0 1 0 1 1 1 1 0 0 1 1 1 1 1 1 1\n",
      " 1 0 1 0 1 0 0 0 0 1 0 1 0 0 1 1 0 1 0 0 1 1 0 0 0 1 1 1 1 1 0 0 0 0 0 0 1\n",
      " 1 1 0 1 0 1 1 0 0 1 1 1 1 0 0 1 0 1 1 1 1 0 1 0 1 0 0 0 0 1 1 0 0 0 0 1 1\n",
      " 1 1 1 0 0 0 0 1 0 1 1 1 1 1 0 1 0 0 1 1 1 0 1 0 0 1 0 0 1 0 1 1 1 1 0 0 0\n",
      " 0 1 0 1 1 0 0 0 0 0 1 1 1 0 0 1 1 1 0 0 1 0 0 0 1 1 1 1 0 1 0 1 0 0 1 1 1\n",
      " 0 1 1 1 1 1 0 0 0 1 0 1 1 0 1 1 1 1 0 0 0 1 1 1 0 1 0 0 0 1 1 0 0 0 0 1 1\n",
      " 1 0 0 0 1 1 1 1 0 1 1 1 0 0 0 1 0 0 1 0 1 0 1 0 1 1 1 0 1 0 0 1 1 0 1 1 0\n",
      " 0 1 1 0 1 1 0 0 0 0 0 0 1 1 0 1 0 1 0 1 0 1 1 0 1 1 1 1 1 1 0 1 0 0 1 1 0\n",
      " 1 0 1 1 1 0 0 0 1 0 0 1 1 1 1 1 0 1 1 0 1 1 1 0 1 0 1 0 1 1 1 0 0 0 0 1 0\n",
      " 1 1 0 1 1 1 1 0 0 1 0 0 1 0 1 1 1 1 0 0 1 0 1 1 1 0 0 1 0 1]\n",
      "predictions on D:  [1 1 1 0 1 0 0 0 0 0 0 1 0 1 0 0 0 1 1 1 0 0 0 0 0 0 1 0 1 1 0 0 0 1 0 0 0\n",
      " 1 0 0 0 0 1 1 1 0 1 0 0 1 1 1 1 0 1 0 0 0 0 1 0 1 1 1 1 0 0 1 1 1 1 1 1 1\n",
      " 1 0 1 0 1 0 0 0 0 1 0 1 0 0 1 1 0 1 0 0 1 1 0 0 0 1 1 1 1 1 0 0 0 0 0 0 1\n",
      " 1 1 0 1 0 1 1 0 0 1 1 1 1 0 0 1 0 1 1 1 1 0 1 0 1 0 0 0 0 1 1 0 0 0 0 1 1\n",
      " 1 1 1 0 0 0 0 1 0 1 1 1 1 1 0 1 0 0 1 1 1 0 1 0 0 1 0 0 1 0 1 1 1 1 0 0 0\n",
      " 0 1 0 1 1 0 0 0 0 0 1 1 1 0 0 1 1 1 0 0 1 0 0 0 1 1 1 1 0 1 0 1 0 0 1 1 1\n",
      " 0 1 1 1 1 1 0 0 0 1 0 1 1 0 1 1 1 1 0 0 0 1 1 1 0 1 0 0 0 1 1 0 0 0 0 1 1\n",
      " 1 0 0 0 1 1 1 1 0 1 1 1 0 0 0 1 0 0 1 0 1 0 1 0 1 1 1 0 1 0 0 1 1 0 1 1 0\n",
      " 0 1 1 0 1 1 0 0 0 0 0 0 1 1 0 1 0 1 0 1 0 1 1 0 1 1 1 1 1 1 0 1 0 0 1 1 0\n",
      " 1 0 1 1 1 0 0 0 1 0 0 1 1 1 1 1 0 1 1 0 1 1 1 0 1 0 1 0 1 1 1 0 0 0 0 1 0\n",
      " 1 1 0 1 1 1 1 0 0 1 0 0 1 0 1 1 1 1 0 0 1 0 1 1 1 0 0 1 0 1]\n"
     ]
    }
   ],
   "source": [
    "print \"Final model:\"\n",
    "print w_1.get_value(), b_1.get_value()\n",
    "print w_2.get_value(), b_2.get_value()\n",
    "print \"target values for D: \", D[1]\n",
    "print \"predictions on D: \", predict(D[0])"
   ]
  }
 ],
 "metadata": {
  "celltoolbar": "Slideshow",
  "kernelspec": {
   "display_name": "Python 2",
   "language": "python",
   "name": "python2"
  },
  "language_info": {
   "codemirror_mode": {
    "name": "ipython",
    "version": 2
   },
   "file_extension": ".py",
   "mimetype": "text/x-python",
   "name": "python",
   "nbconvert_exporter": "python",
   "pygments_lexer": "ipython2",
   "version": "2.7.10"
  }
 },
 "nbformat": 4,
 "nbformat_minor": 0
}
