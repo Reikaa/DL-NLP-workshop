{
 "cells": [
  {
   "cell_type": "code",
   "execution_count": null,
   "metadata": {
    "collapsed": false
   },
   "outputs": [],
   "source": [
    "import numpy\n",
    "from theano import tensor\n",
    "from fuel.streams import DataStream\n",
    "from fuel.schemes import ShuffledScheme\n",
    "from fuel.datasets.iris import Iris\n",
    "from fuel.transformers import Mapping\n",
    "from blocks.bricks import Linear, Softmax\n",
    "from blocks.bricks.cost import MisclassificationRate\n",
    "from blocks.initialization import Uniform, Constant\n",
    "from blocks.graph import ComputationGraph\n",
    "from blocks.algorithms import GradientDescent, Scale\n",
    "from blocks.main_loop import MainLoop\n",
    "from blocks.extensions import Timing, FinishAfter, Printing\n",
    "from blocks.extensions.monitoring import TrainingDataMonitoring\n",
    "from blocks.extras.extensions.plot import Plot"
   ]
  },
  {
   "cell_type": "markdown",
   "metadata": {},
   "source": [
    "# Params"
   ]
  },
  {
   "cell_type": "code",
   "execution_count": null,
   "metadata": {
    "collapsed": true
   },
   "outputs": [],
   "source": [
    "learning_rate = 0.01\n",
    "nclasses = 3\n",
    "nfeatures = 4\n",
    "batch_size = 32\n",
    "nepochs = 300"
   ]
  },
  {
   "cell_type": "markdown",
   "metadata": {},
   "source": [
    "# Data"
   ]
  },
  {
   "cell_type": "code",
   "execution_count": null,
   "metadata": {
    "collapsed": true
   },
   "outputs": [],
   "source": [
    "dataset = Iris(which_sets=('all',))\n",
    "scheme = ShuffledScheme(examples=dataset.num_examples, batch_size=batch_size)\n",
    "stream = DataStream(dataset, iteration_scheme=scheme)"
   ]
  },
  {
   "cell_type": "markdown",
   "metadata": {},
   "source": [
    "## One-hot representation"
   ]
  },
  {
   "cell_type": "code",
   "execution_count": null,
   "metadata": {
    "collapsed": true
   },
   "outputs": [],
   "source": [
    "I = numpy.eye(nclasses, dtype=int)\n",
    "def one_hot(data):\n",
    "    return data[0], I[data[1].flatten()]\n",
    "stream = Mapping(stream, one_hot)"
   ]
  },
  {
   "cell_type": "markdown",
   "metadata": {},
   "source": [
    "# Model"
   ]
  },
  {
   "cell_type": "code",
   "execution_count": null,
   "metadata": {
    "collapsed": true
   },
   "outputs": [],
   "source": [
    "x = tensor.matrix('features')\n",
    "y = tensor.lmatrix('targets')\n",
    "linear = Linear(nfeatures, nclasses,\n",
    "                weights_init=Constant(0), biases_init=Constant(0))\n",
    "linear.initialize()\n",
    "linear_output = linear.apply(x)\n",
    "softmax = Softmax()\n",
    "y_hat = softmax.apply(linear_output)"
   ]
  },
  {
   "cell_type": "markdown",
   "metadata": {},
   "source": [
    "## cost"
   ]
  },
  {
   "cell_type": "code",
   "execution_count": null,
   "metadata": {
    "collapsed": true
   },
   "outputs": [],
   "source": [
    "cost = softmax.categorical_cross_entropy(y, linear_output).mean()\n",
    "error = MisclassificationRate().apply(y.nonzero()[1], y_hat)\n",
    "error.name = 'error'\n",
    "cost.name = 'cost'"
   ]
  },
  {
   "cell_type": "markdown",
   "metadata": {},
   "source": [
    "# Algorithm"
   ]
  },
  {
   "cell_type": "code",
   "execution_count": null,
   "metadata": {
    "collapsed": true
   },
   "outputs": [],
   "source": [
    "cg = ComputationGraph(cost)\n",
    "algorithm = GradientDescent(cost=cost, parameters=cg.parameters,\n",
    "                            step_rule=Scale(learning_rate))"
   ]
  },
  {
   "cell_type": "markdown",
   "metadata": {},
   "source": [
    "# extensions"
   ]
  },
  {
   "cell_type": "code",
   "execution_count": null,
   "metadata": {
    "collapsed": false
   },
   "outputs": [],
   "source": [
    "monitor = TrainingDataMonitoring([cost, error], prefix='tra', after_batch=True)\n",
    "extensions=[monitor, Printing(), Timing(), FinishAfter(after_n_epochs=nepochs)]"
   ]
  },
  {
   "cell_type": "markdown",
   "metadata": {},
   "source": [
    "# Main loop"
   ]
  },
  {
   "cell_type": "code",
   "execution_count": null,
   "metadata": {
    "collapsed": false
   },
   "outputs": [],
   "source": [
    "loop = MainLoop(algorithm, stream, extensions=extensions)\n",
    "loop.run()"
   ]
  },
  {
   "cell_type": "code",
   "execution_count": null,
   "metadata": {
    "collapsed": false
   },
   "outputs": [],
   "source": [
    "loop.profile.report()"
   ]
  }
 ],
 "metadata": {
  "kernelspec": {
   "display_name": "Python 2",
   "language": "python",
   "name": "python2"
  },
  "language_info": {
   "codemirror_mode": {
    "name": "ipython",
    "version": 2
   },
   "file_extension": ".py",
   "mimetype": "text/x-python",
   "name": "python",
   "nbconvert_exporter": "python",
   "pygments_lexer": "ipython2",
   "version": "2.7.10"
  }
 },
 "nbformat": 4,
 "nbformat_minor": 0
}
