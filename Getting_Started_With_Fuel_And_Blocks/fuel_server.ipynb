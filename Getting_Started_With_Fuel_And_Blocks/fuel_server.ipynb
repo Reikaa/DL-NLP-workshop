{
 "cells": [
  {
   "cell_type": "markdown",
   "metadata": {},
   "source": [
    "# Fuel data processing server\n",
    "\n",
    "This notebook goes in pair with the `fuel_tutorial` notebook."
   ]
  },
  {
   "cell_type": "code",
   "execution_count": null,
   "metadata": {
    "collapsed": true
   },
   "outputs": [],
   "source": [
    "import time\n",
    "\n",
    "from fuel.datasets import IndexableDataset\n",
    "from fuel.schemes import ShuffledScheme\n",
    "from fuel.server import start_server\n",
    "from fuel.streams import DataStream\n",
    "from fuel.transformers import Transformer\n",
    "\n",
    "\n",
    "class Bottleneck(Transformer):\n",
    "    def __init__(self, data_stream, **kwargs):\n",
    "        self.slowdown = kwargs.pop('slowdown', 0)\n",
    "        super(Bottleneck, self).__init__(\n",
    "            data_stream, data_stream.produces_examples, **kwargs)\n",
    "\n",
    "    def get_data(self, request=None):\n",
    "        if request is not None:\n",
    "            raise ValueError\n",
    "        time.sleep(self.slowdown)\n",
    "        return next(self.child_epoch_iterator)\n",
    "\n",
    "\n",
    "def create_data_stream(slowdown=0):\n",
    "    dataset = IndexableDataset({'features': [[0] * 128] * 1000})\n",
    "    iteration_scheme = ShuffledScheme(examples=1000, batch_size=100)\n",
    "    data_stream = Bottleneck(\n",
    "        data_stream=DataStream.default_stream(\n",
    "            dataset=dataset, iteration_scheme=iteration_scheme),\n",
    "        slowdown=slowdown)\n",
    "    return data_stream"
   ]
  },
  {
   "cell_type": "code",
   "execution_count": null,
   "metadata": {
    "collapsed": false
   },
   "outputs": [],
   "source": [
    "start_server(create_data_stream(0.005))"
   ]
  }
 ],
 "metadata": {
  "kernelspec": {
   "display_name": "Python 3",
   "language": "python",
   "name": "python3"
  },
  "language_info": {
   "codemirror_mode": {
    "name": "ipython",
    "version": 3
   },
   "file_extension": ".py",
   "mimetype": "text/x-python",
   "name": "python",
   "nbconvert_exporter": "python",
   "pygments_lexer": "ipython3",
   "version": "3.4.3"
  }
 },
 "nbformat": 4,
 "nbformat_minor": 0
}
